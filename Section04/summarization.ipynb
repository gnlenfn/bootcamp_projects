{
 "cells": [
  {
   "cell_type": "markdown",
   "id": "4375e9f6-ea7c-4546-9cb0-ddb7bcb55871",
   "metadata": {},
   "source": [
    "# Text summarization\n",
    "https://www.kaggle.com/snap/amazon-fine-food-reviews  \n",
    "kaggle에서 찾은 아마존 음식리뷰 데이터"
   ]
  },
  {
   "cell_type": "code",
   "execution_count": 130,
   "id": "4b045bd1-6f03-4af1-896d-9ff215dae949",
   "metadata": {},
   "outputs": [],
   "source": [
    "import numpy as np\n",
    "import pandas as pd\n",
    "import re\n",
    "import matplotlib.pyplot as plt\n",
    "from nltk.corpus import stopwords\n",
    "from bs4 import BeautifulSoup \n",
    "from tensorflow.keras.preprocessing.text import Tokenizer \n",
    "from tensorflow.keras.preprocessing.sequence import pad_sequences\n",
    "import urllib.request\n",
    "import os\n",
    "np.random.seed(seed=777)"
   ]
  },
  {
   "cell_type": "markdown",
   "id": "153b2249-3f0e-4901-877d-88ff4cc0ccd2",
   "metadata": {},
   "source": [
    "# 1. 데이터 불러오기"
   ]
  },
  {
   "cell_type": "code",
   "execution_count": 131,
   "id": "b32821da-f878-4cd1-9568-dacb8623c0ae",
   "metadata": {},
   "outputs": [
    {
     "data": {
      "text/plain": [
       "(568454, 10)"
      ]
     },
     "execution_count": 131,
     "metadata": {},
     "output_type": "execute_result"
    }
   ],
   "source": [
    "data = pd.read_csv(\"reviews/Reviews.csv\", encoding='utf-8')\n",
    "data.shape"
   ]
  },
  {
   "cell_type": "code",
   "execution_count": 132,
   "id": "84239d9b-66e6-4aef-ab37-557641d3f618",
   "metadata": {},
   "outputs": [
    {
     "data": {
      "text/html": [
       "<div>\n",
       "<style scoped>\n",
       "    .dataframe tbody tr th:only-of-type {\n",
       "        vertical-align: middle;\n",
       "    }\n",
       "\n",
       "    .dataframe tbody tr th {\n",
       "        vertical-align: top;\n",
       "    }\n",
       "\n",
       "    .dataframe thead th {\n",
       "        text-align: right;\n",
       "    }\n",
       "</style>\n",
       "<table border=\"1\" class=\"dataframe\">\n",
       "  <thead>\n",
       "    <tr style=\"text-align: right;\">\n",
       "      <th></th>\n",
       "      <th>Id</th>\n",
       "      <th>ProductId</th>\n",
       "      <th>UserId</th>\n",
       "      <th>ProfileName</th>\n",
       "      <th>HelpfulnessNumerator</th>\n",
       "      <th>HelpfulnessDenominator</th>\n",
       "      <th>Score</th>\n",
       "      <th>Time</th>\n",
       "      <th>Summary</th>\n",
       "      <th>Text</th>\n",
       "    </tr>\n",
       "  </thead>\n",
       "  <tbody>\n",
       "    <tr>\n",
       "      <th>0</th>\n",
       "      <td>1</td>\n",
       "      <td>B001E4KFG0</td>\n",
       "      <td>A3SGXH7AUHU8GW</td>\n",
       "      <td>delmartian</td>\n",
       "      <td>1</td>\n",
       "      <td>1</td>\n",
       "      <td>5</td>\n",
       "      <td>1303862400</td>\n",
       "      <td>Good Quality Dog Food</td>\n",
       "      <td>I have bought several of the Vitality canned d...</td>\n",
       "    </tr>\n",
       "    <tr>\n",
       "      <th>1</th>\n",
       "      <td>2</td>\n",
       "      <td>B00813GRG4</td>\n",
       "      <td>A1D87F6ZCVE5NK</td>\n",
       "      <td>dll pa</td>\n",
       "      <td>0</td>\n",
       "      <td>0</td>\n",
       "      <td>1</td>\n",
       "      <td>1346976000</td>\n",
       "      <td>Not as Advertised</td>\n",
       "      <td>Product arrived labeled as Jumbo Salted Peanut...</td>\n",
       "    </tr>\n",
       "    <tr>\n",
       "      <th>2</th>\n",
       "      <td>3</td>\n",
       "      <td>B000LQOCH0</td>\n",
       "      <td>ABXLMWJIXXAIN</td>\n",
       "      <td>Natalia Corres \"Natalia Corres\"</td>\n",
       "      <td>1</td>\n",
       "      <td>1</td>\n",
       "      <td>4</td>\n",
       "      <td>1219017600</td>\n",
       "      <td>\"Delight\" says it all</td>\n",
       "      <td>This is a confection that has been around a fe...</td>\n",
       "    </tr>\n",
       "    <tr>\n",
       "      <th>3</th>\n",
       "      <td>4</td>\n",
       "      <td>B000UA0QIQ</td>\n",
       "      <td>A395BORC6FGVXV</td>\n",
       "      <td>Karl</td>\n",
       "      <td>3</td>\n",
       "      <td>3</td>\n",
       "      <td>2</td>\n",
       "      <td>1307923200</td>\n",
       "      <td>Cough Medicine</td>\n",
       "      <td>If you are looking for the secret ingredient i...</td>\n",
       "    </tr>\n",
       "    <tr>\n",
       "      <th>4</th>\n",
       "      <td>5</td>\n",
       "      <td>B006K2ZZ7K</td>\n",
       "      <td>A1UQRSCLF8GW1T</td>\n",
       "      <td>Michael D. Bigham \"M. Wassir\"</td>\n",
       "      <td>0</td>\n",
       "      <td>0</td>\n",
       "      <td>5</td>\n",
       "      <td>1350777600</td>\n",
       "      <td>Great taffy</td>\n",
       "      <td>Great taffy at a great price.  There was a wid...</td>\n",
       "    </tr>\n",
       "  </tbody>\n",
       "</table>\n",
       "</div>"
      ],
      "text/plain": [
       "   Id   ProductId          UserId                      ProfileName  \\\n",
       "0   1  B001E4KFG0  A3SGXH7AUHU8GW                       delmartian   \n",
       "1   2  B00813GRG4  A1D87F6ZCVE5NK                           dll pa   \n",
       "2   3  B000LQOCH0   ABXLMWJIXXAIN  Natalia Corres \"Natalia Corres\"   \n",
       "3   4  B000UA0QIQ  A395BORC6FGVXV                             Karl   \n",
       "4   5  B006K2ZZ7K  A1UQRSCLF8GW1T    Michael D. Bigham \"M. Wassir\"   \n",
       "\n",
       "   HelpfulnessNumerator  HelpfulnessDenominator  Score        Time  \\\n",
       "0                     1                       1      5  1303862400   \n",
       "1                     0                       0      1  1346976000   \n",
       "2                     1                       1      4  1219017600   \n",
       "3                     3                       3      2  1307923200   \n",
       "4                     0                       0      5  1350777600   \n",
       "\n",
       "                 Summary                                               Text  \n",
       "0  Good Quality Dog Food  I have bought several of the Vitality canned d...  \n",
       "1      Not as Advertised  Product arrived labeled as Jumbo Salted Peanut...  \n",
       "2  \"Delight\" says it all  This is a confection that has been around a fe...  \n",
       "3         Cough Medicine  If you are looking for the secret ingredient i...  \n",
       "4            Great taffy  Great taffy at a great price.  There was a wid...  "
      ]
     },
     "execution_count": 132,
     "metadata": {},
     "output_type": "execute_result"
    }
   ],
   "source": [
    "data.head()"
   ]
  },
  {
   "cell_type": "markdown",
   "id": "9c0650bb-43d3-466a-ab38-88953969fe50",
   "metadata": {},
   "source": [
    "실제 텍스트인 'Text'와 label이 될 요약본인 'Summary'만 사용할 것이다"
   ]
  },
  {
   "cell_type": "code",
   "execution_count": 133,
   "id": "625c27a9-01b5-4683-9ffd-c100d854bf5e",
   "metadata": {},
   "outputs": [
    {
     "data": {
      "text/html": [
       "<div>\n",
       "<style scoped>\n",
       "    .dataframe tbody tr th:only-of-type {\n",
       "        vertical-align: middle;\n",
       "    }\n",
       "\n",
       "    .dataframe tbody tr th {\n",
       "        vertical-align: top;\n",
       "    }\n",
       "\n",
       "    .dataframe thead th {\n",
       "        text-align: right;\n",
       "    }\n",
       "</style>\n",
       "<table border=\"1\" class=\"dataframe\">\n",
       "  <thead>\n",
       "    <tr style=\"text-align: right;\">\n",
       "      <th></th>\n",
       "      <th>Text</th>\n",
       "      <th>Summary</th>\n",
       "    </tr>\n",
       "  </thead>\n",
       "  <tbody>\n",
       "    <tr>\n",
       "      <th>0</th>\n",
       "      <td>I have bought several of the Vitality canned d...</td>\n",
       "      <td>Good Quality Dog Food</td>\n",
       "    </tr>\n",
       "    <tr>\n",
       "      <th>1</th>\n",
       "      <td>Product arrived labeled as Jumbo Salted Peanut...</td>\n",
       "      <td>Not as Advertised</td>\n",
       "    </tr>\n",
       "    <tr>\n",
       "      <th>2</th>\n",
       "      <td>This is a confection that has been around a fe...</td>\n",
       "      <td>\"Delight\" says it all</td>\n",
       "    </tr>\n",
       "    <tr>\n",
       "      <th>3</th>\n",
       "      <td>If you are looking for the secret ingredient i...</td>\n",
       "      <td>Cough Medicine</td>\n",
       "    </tr>\n",
       "    <tr>\n",
       "      <th>4</th>\n",
       "      <td>Great taffy at a great price.  There was a wid...</td>\n",
       "      <td>Great taffy</td>\n",
       "    </tr>\n",
       "  </tbody>\n",
       "</table>\n",
       "</div>"
      ],
      "text/plain": [
       "                                                Text                Summary\n",
       "0  I have bought several of the Vitality canned d...  Good Quality Dog Food\n",
       "1  Product arrived labeled as Jumbo Salted Peanut...      Not as Advertised\n",
       "2  This is a confection that has been around a fe...  \"Delight\" says it all\n",
       "3  If you are looking for the secret ingredient i...         Cough Medicine\n",
       "4  Great taffy at a great price.  There was a wid...            Great taffy"
      ]
     },
     "execution_count": 133,
     "metadata": {},
     "output_type": "execute_result"
    }
   ],
   "source": [
    "data = data[['Text', 'Summary']]\n",
    "data.head()"
   ]
  },
  {
   "cell_type": "markdown",
   "id": "10f7dd01-c22f-4868-a46d-d3fc16e1ecc1",
   "metadata": {},
   "source": [
    "# 2. 데이터 전처리 \n",
    "\n",
    "### 1) 중복 및 Null 제거"
   ]
  },
  {
   "cell_type": "code",
   "execution_count": 134,
   "id": "1d684892-f6ee-494f-b157-07e816bfb960",
   "metadata": {},
   "outputs": [
    {
     "name": "stdout",
     "output_type": "stream",
     "text": [
      "393579\n",
      "295742\n"
     ]
    }
   ],
   "source": [
    "print(data['Text'].nunique())\n",
    "print(data['Summary'].nunique())"
   ]
  },
  {
   "cell_type": "markdown",
   "id": "683375da-e924-4c66-92ee-90d7f2295223",
   "metadata": {},
   "source": [
    "원문이 비해 요약의 중복이 많은 것은 다른 내용도 같은 요약일 수 있기 때문?  \n",
    "전체 리뷰가 약 56만개였는데 중복이 아주 많다."
   ]
  },
  {
   "cell_type": "code",
   "execution_count": 135,
   "id": "d499a255-ab5b-42ce-aab0-24145292f831",
   "metadata": {},
   "outputs": [
    {
     "data": {
      "text/plain": [
       "(393579, 2)"
      ]
     },
     "execution_count": 135,
     "metadata": {},
     "output_type": "execute_result"
    }
   ],
   "source": [
    "data.drop_duplicates(subset=['Text'], inplace=True)\n",
    "data.shape"
   ]
  },
  {
   "cell_type": "code",
   "execution_count": 136,
   "id": "95512791-0157-46ab-b7bd-3749358f3878",
   "metadata": {},
   "outputs": [
    {
     "data": {
      "text/plain": [
       "Text       0\n",
       "Summary    3\n",
       "dtype: int64"
      ]
     },
     "execution_count": 136,
     "metadata": {},
     "output_type": "execute_result"
    }
   ],
   "source": [
    "# null 확인\n",
    "data.isnull().sum()"
   ]
  },
  {
   "cell_type": "code",
   "execution_count": 137,
   "id": "fa817fcc-cccf-4433-8b20-6a79e1a8185e",
   "metadata": {},
   "outputs": [
    {
     "data": {
      "text/plain": [
       "(393576, 2)"
      ]
     },
     "execution_count": 137,
     "metadata": {},
     "output_type": "execute_result"
    }
   ],
   "source": [
    "data.dropna(axis=0, inplace=True)\n",
    "data.shape"
   ]
  },
  {
   "cell_type": "markdown",
   "id": "7d6db60b-aa41-432e-929c-e8513f00c5b2",
   "metadata": {},
   "source": [
    "### 2) 축약어 원복"
   ]
  },
  {
   "cell_type": "code",
   "execution_count": 138,
   "id": "289a1c5e-ebed-447a-b684-4de70223da07",
   "metadata": {},
   "outputs": [],
   "source": [
    "# expand contractions\n",
    "# from wikipedia table\n",
    "contractions = { \n",
    "\"ain't\": \"is not\",\n",
    "\"aren't\": \"are not\",\n",
    "\"can't\": \"cannot\",\n",
    "\"can't've\": \"cannot have\",\n",
    "\"'cause\": \"because\",\n",
    "\"could've\": \"could have\",\n",
    "\"couldn't\": \"could not\",\n",
    "\"couldn't've\": \"could not have\",\n",
    "\"didn't\": \"did not\",\n",
    "\"doesn't\": \"does not\",\n",
    "\"don't\": \"do not\",\n",
    "\"hadn't\": \"had not\",\n",
    "\"hadn't've\": \"had not have\",\n",
    "\"hasn't\": \"has not\",\n",
    "\"haven't\": \"have not\",\n",
    "\"he'd\": \"he would\",\n",
    "\"he'd've\": \"he would have\",\n",
    "\"he'll\": \"he will\",\n",
    "\"he'll've\": \"he will have\",\n",
    "\"he's\": \"he has\",\n",
    "\"how'd\": \"how did\",\n",
    "\"how'd'y\": \"how do you\",\n",
    "\"how'll\": \"how will\",\n",
    "\"how's\": \"how is\",\n",
    "\"I'd\": \"I had\",\n",
    "\"I'd've\": \"I would have\",\n",
    "\"I'll\": \"I will\",\n",
    "\"I'll've\": \"I will have\",\n",
    "\"I'm\": \"I am\",\n",
    "\"I've\": \"I have\",\n",
    "\"isn't\": \"is not\",\n",
    "\"it'd\": \"it would\",\n",
    "\"it'd've\": \"it would have\",\n",
    "\"it'll\": \"it will\",\n",
    "\"it'll've\": \"it will have\",\n",
    "\"it's\": \"it is\",\n",
    "\"let's\": \"let us\",\n",
    "\"ma'am\": \"madam\",\n",
    "\"mayn't\": \"may not\",\n",
    "\"might've\": \"might have\",\n",
    "\"mightn't\": \"might not\",\n",
    "\"mightn't've\": \"might not have\",\n",
    "\"must've\": \"must have\",\n",
    "\"mustn't\": \"must not\",\n",
    "\"mustn't've\": \"must not have\",\n",
    "\"needn't\": \"need not\",\n",
    "\"needn't've\": \"need not have\",\n",
    "\"o'clock\": \"of the clock\",\n",
    "\"oughtn't\": \"ought not\",\n",
    "\"oughtn't've\": \"ought not have\",\n",
    "\"shan't\": \"shall not\",\n",
    "\"sha'n't\": \"shall not\",\n",
    "\"shan't've\": \"shall not have\",\n",
    "\"she'd\": \"she would\",\n",
    "\"she'd've\": \"she would have\",\n",
    "\"she'll\": \"she will\",\n",
    "\"she'll've\": \"she will have\",\n",
    "\"she's\": \"she has\",\n",
    "\"should've\": \"should have\",\n",
    "\"shouldn't\": \"should not\",\n",
    "\"shouldn't've\": \"should not have\",\n",
    "\"so've\": \"so have\",\n",
    "\"so's\": \"so as\",\n",
    "\"that'd\": \"that would\",\n",
    "\"that'd've\": \"that would have\",\n",
    "\"that's\": \"that is\",\n",
    "\"there'd\": \"there would\",\n",
    "\"there'd've\": \"there would have\",\n",
    "\"there's\": \"there is\",\n",
    "\"they'd\": \"they would\",\n",
    "\"they'd've\": \"they would have\",\n",
    "\"they'll\": \"they will\",\n",
    "\"they'll've\": \"they will have\",\n",
    "\"they're\": \"they are\",\n",
    "\"they've\": \"they have\",\n",
    "\"to've\": \"to have\",\n",
    "\"wasn't\": \"was not\",\n",
    "\"we'd\": \"we would\",\n",
    "\"we'd've\": \"we would have\",\n",
    "\"we'll\": \"we will\",\n",
    "\"we'll've\": \"we will have\",\n",
    "\"we're\": \"we are\",\n",
    "\"we've\": \"we have\",\n",
    "\"weren't\": \"were not\",\n",
    "\"what'll\": \"what will\",\n",
    "\"what'll've\": \"what will have\",\n",
    "\"what're\": \"what are\",\n",
    "\"what's\": \"what is\",\n",
    "\"what've\": \"what have\",\n",
    "\"when's\": \"when is\",\n",
    "\"when've\": \"when have\",\n",
    "\"where'd\": \"where did\",\n",
    "\"where's\": \"where is\",\n",
    "\"where've\": \"where have\",\n",
    "\"who'll\": \"who will\",\n",
    "\"who'll've\": \"who will have\",\n",
    "\"who's\": \"who is\",\n",
    "\"who've\": \"who have\",\n",
    "\"why's\": \"why is\",\n",
    "\"why've\": \"why have\",\n",
    "\"will've\": \"will have\",\n",
    "\"won't\": \"will not\",\n",
    "\"won't've\": \"will not have\",\n",
    "\"would've\": \"would have\",\n",
    "\"wouldn't\": \"would not\",\n",
    "\"wouldn't've\": \"would not have\",\n",
    "\"y'all\": \"you all\",\n",
    "\"y'all'd\": \"you all would\",\n",
    "\"y'all'd've\": \"you all would have\",\n",
    "\"y'all're\": \"you all are\",\n",
    "\"y'all've\": \"you all have\",\n",
    "\"you'd\": \"you would\",\n",
    "\"you'd've\": \"you would have\",\n",
    "\"you'll\": \"you will\",\n",
    "\"you'll've\": \"you will have\",\n",
    "\"you're\": \"you are\",\n",
    "\"you've\": \"you have\"\n",
    "}"
   ]
  },
  {
   "cell_type": "code",
   "execution_count": 139,
   "id": "724ca0d4-a44f-4663-97cb-2cd969520749",
   "metadata": {},
   "outputs": [
    {
     "data": {
      "text/plain": [
       "179"
      ]
     },
     "execution_count": 139,
     "metadata": {},
     "output_type": "execute_result"
    }
   ],
   "source": [
    "# NLTK stopwords\n",
    "stop_words = set(stopwords.words('english'))\n",
    "len(stop_words)"
   ]
  },
  {
   "cell_type": "code",
   "execution_count": 140,
   "id": "c1c8c766-8a58-4de5-ac2e-cb26305837e8",
   "metadata": {},
   "outputs": [],
   "source": [
    "# preprocessing!\n",
    "def preprocess_sentence(sentence, remove_stopwords=True):\n",
    "    sentence = sentence.lower()                     # lower case\n",
    "    sentence = BeautifulSoup(sentence, \"lxml\").text # remove HTML tags\n",
    "    sentence = re.sub(r'\\([^)]*\\)', '', sentence)   # remove parentheses\n",
    "    sentence = re.sub('\"', \"\", sentence)            # remove \"\"\n",
    "    sentence = ' '.join([contractions[t] if t in contractions else t for t in sentence.split(\" \")]) # expand contractions\n",
    "   # sentence = re.sub(r\"s\\b\", \"\", sentence)         # remove possesive\n",
    "    sentence = re.sub(r'[^a-zA-Z]', \" \", sentence)     # remove all except english\n",
    "    sentence = re.sub('[m]{2,}', 'mm', sentence)    # Ex) hmmmmmmmm -> hmm 한국어로 치면 ㅋㅋㅋ 너무많은것 줄이는 것\n",
    "    \n",
    "    if remove_stopwords:\n",
    "        tokens = \" \".join(word for word in sentence.split() if not word in stop_words if len(word) > 1)\n",
    "    else:\n",
    "        tokens = \" \".join(word for word in sentence.split() if len(word) > 1)\n",
    "        \n",
    "    return tokens\n",
    "    "
   ]
  },
  {
   "cell_type": "code",
   "execution_count": 141,
   "id": "b2c2d021-527a-4e70-9ea5-23d1e02f42c2",
   "metadata": {},
   "outputs": [
    {
     "name": "stdout",
     "output_type": "stream",
     "text": [
      "everything bought great infact ordered twice third ordered wasfor mother father\n",
      "great way to start the day\n"
     ]
    }
   ],
   "source": [
    "temp_text = 'Everything I bought was great, infact I ordered twice and the third ordered was<br />for my mother and father.'\n",
    "temp_summary = 'Great way to start (or finish) the day!!!'\n",
    "print(preprocess_sentence(temp_text))\n",
    "print(preprocess_sentence(temp_summary, 0))"
   ]
  },
  {
   "cell_type": "code",
   "execution_count": 142,
   "id": "1843e71c-778b-47b2-870c-de8e55fa50d2",
   "metadata": {},
   "outputs": [
    {
     "name": "stderr",
     "output_type": "stream",
     "text": [
      "/usr/local/lib/python3.6/dist-packages/bs4/__init__.py:424: MarkupResemblesLocatorWarning: \"http://www.amazon.com/gp/product/b007i7yygy/ref=cm_cr_rev_prod_title\" looks like a URL. Beautiful Soup is not an HTTP client. You should probably use an HTTP client like requests to get the document behind the URL, and feed that document to Beautiful Soup.\n",
      "  MarkupResemblesLocatorWarning\n",
      "/usr/local/lib/python3.6/dist-packages/bs4/__init__.py:336: MarkupResemblesLocatorWarning: \".\" looks like a filename, not markup. You should probably open this file and pass the filehandle into Beautiful Soup.\n",
      "  MarkupResemblesLocatorWarning\n",
      "/usr/local/lib/python3.6/dist-packages/bs4/__init__.py:424: MarkupResemblesLocatorWarning: \"http://www.amazon.com/gp/product/b000v9lq30/ref=cm_cr_rev_prod_title\" looks like a URL. Beautiful Soup is not an HTTP client. You should probably use an HTTP client like requests to get the document behind the URL, and feed that document to Beautiful Soup.\n",
      "  MarkupResemblesLocatorWarning\n",
      "/usr/local/lib/python3.6/dist-packages/bs4/__init__.py:424: MarkupResemblesLocatorWarning: \"http://www.amazon.com/gp/product/b001eq58fq/ref=cm_cr_rev_prod_title\" looks like a URL. Beautiful Soup is not an HTTP client. You should probably use an HTTP client like requests to get the document behind the URL, and feed that document to Beautiful Soup.\n",
      "  MarkupResemblesLocatorWarning\n",
      "/usr/local/lib/python3.6/dist-packages/bs4/__init__.py:424: MarkupResemblesLocatorWarning: \"http://www.amazon.com/gp/product/b000eyobru/ref=cm_cr_rev_prod_title\" looks like a URL. Beautiful Soup is not an HTTP client. You should probably use an HTTP client like requests to get the document behind the URL, and feed that document to Beautiful Soup.\n",
      "  MarkupResemblesLocatorWarning\n"
     ]
    }
   ],
   "source": [
    "data['Text'] = data['Text'].apply(preprocess_sentence)\n",
    "data['Summary'] = data['Summary'].apply(preprocess_sentence)"
   ]
  },
  {
   "cell_type": "code",
   "execution_count": 143,
   "id": "2a8e8d71-53b1-4f0c-8897-8ff15703722a",
   "metadata": {},
   "outputs": [
    {
     "name": "stdout",
     "output_type": "stream",
     "text": [
      "Text          3\n",
      "Summary    1242\n",
      "dtype: int64\n"
     ]
    }
   ],
   "source": [
    "data.replace('', np.nan, inplace=True)\n",
    "print(data.isnull().sum())"
   ]
  },
  {
   "cell_type": "code",
   "execution_count": 144,
   "id": "85c11838-3f38-490a-b133-8cae3524577e",
   "metadata": {},
   "outputs": [
    {
     "data": {
      "text/plain": [
       "392333"
      ]
     },
     "execution_count": 144,
     "metadata": {},
     "output_type": "execute_result"
    }
   ],
   "source": [
    "data.dropna(axis = 0, inplace = True)\n",
    "len(data)"
   ]
  },
  {
   "cell_type": "code",
   "execution_count": 145,
   "id": "9ba0ac0a-d7ab-47b8-9a8b-3549fedb9f11",
   "metadata": {},
   "outputs": [
    {
     "name": "stdout",
     "output_type": "stream",
     "text": [
      "텍스트의 최소 길이 : 1\n",
      "텍스트의 최대 길이 : 1919\n",
      "텍스트의 평균 길이 : 38.00184027344118\n",
      "요약의 최소 길이 : 1\n",
      "요약의 최대 길이 : 18\n",
      "요약의 평균 길이 : 2.8498775275085197\n"
     ]
    },
    {
     "data": {
      "image/png": "[encoded data removed]",
      "text/plain": [
       "<Figure size 432x288 with 2 Axes>"
      ]
     },
     "metadata": {
      "needs_background": "light"
     },
     "output_type": "display_data"
    },
    {
     "data": {
      "image/png": "[encoded data removed]",
      "text/plain": [
       "<Figure size 432x288 with 1 Axes>"
      ]
     },
     "metadata": {
      "needs_background": "light"
     },
     "output_type": "display_data"
    },
    {
     "data": {
      "image/png": "[encoded data removed]",
      "text/plain": [
       "<Figure size 432x288 with 1 Axes>"
      ]
     },
     "metadata": {
      "needs_background": "light"
     },
     "output_type": "display_data"
    }
   ],
   "source": [
    "# 길이 분포 출력\n",
    "text_len = [len(s.split()) for s in data['Text']]\n",
    "summary_len = [len(s.split()) for s in data['Summary']]\n",
    "\n",
    "print('텍스트의 최소 길이 : {}'.format(np.min(text_len)))\n",
    "print('텍스트의 최대 길이 : {}'.format(np.max(text_len)))\n",
    "print('텍스트의 평균 길이 : {}'.format(np.mean(text_len)))\n",
    "print('요약의 최소 길이 : {}'.format(np.min(summary_len)))\n",
    "print('요약의 최대 길이 : {}'.format(np.max(summary_len)))\n",
    "print('요약의 평균 길이 : {}'.format(np.mean(summary_len)))\n",
    "\n",
    "plt.subplot(1,2,1)\n",
    "plt.boxplot(summary_len)\n",
    "plt.title('Summary')\n",
    "plt.subplot(1,2,2)\n",
    "plt.boxplot(text_len)\n",
    "plt.title('Text')\n",
    "plt.tight_layout()\n",
    "plt.show()\n",
    "\n",
    "plt.title('Summary')\n",
    "plt.hist(summary_len, bins=40)\n",
    "plt.xlabel('length of samples')\n",
    "plt.ylabel('number of samples')\n",
    "plt.show()\n",
    "\n",
    "plt.title('Text')\n",
    "plt.hist(text_len, bins=40)\n",
    "plt.xlabel('length of samples')\n",
    "plt.ylabel('number of samples')\n",
    "plt.show()"
   ]
  },
  {
   "cell_type": "code",
   "execution_count": 146,
   "id": "804c1cbf-715c-4c6e-9abd-3ac45790303c",
   "metadata": {},
   "outputs": [],
   "source": [
    "text_max_len = 80\n",
    "summary_max_len = 6"
   ]
  },
  {
   "cell_type": "code",
   "execution_count": 147,
   "id": "02d8a2ed-99f2-43ea-86e3-54c171fab3dd",
   "metadata": {},
   "outputs": [],
   "source": [
    "def below_threshold_len(max_len, nested_list):\n",
    "    cnt = 0\n",
    "    for s in nested_list:\n",
    "        if(len(s.split()) <= max_len):\n",
    "            cnt = cnt + 1\n",
    "    print('전체 샘플 중 길이가 %s 이하인 샘플의 비율: %s'%(max_len, (cnt / len(nested_list))))"
   ]
  },
  {
   "cell_type": "code",
   "execution_count": 148,
   "id": "33a49c7a-b14e-424b-8861-38fa8ca45218",
   "metadata": {},
   "outputs": [
    {
     "name": "stdout",
     "output_type": "stream",
     "text": [
      "전체 샘플 중 길이가 80 이하인 샘플의 비율: 0.913173248235555\n"
     ]
    }
   ],
   "source": [
    "below_threshold_len(text_max_len, data['Text'])"
   ]
  },
  {
   "cell_type": "code",
   "execution_count": 149,
   "id": "4ff66633-7009-4b03-b39d-77a3fc154d52",
   "metadata": {},
   "outputs": [
    {
     "name": "stdout",
     "output_type": "stream",
     "text": [
      "전체 샘플 중 길이가 6 이하인 샘플의 비율: 0.9734281847308281\n"
     ]
    }
   ],
   "source": [
    "below_threshold_len(summary_max_len, data['Summary'])"
   ]
  },
  {
   "cell_type": "code",
   "execution_count": 150,
   "id": "c6ca79a4-7919-4691-a2e6-597c7493d3d2",
   "metadata": {},
   "outputs": [
    {
     "name": "stdout",
     "output_type": "stream",
     "text": [
      "전체 샘플수 : 350808\n"
     ]
    }
   ],
   "source": [
    "data = data[data['Text'].apply(lambda x: len(x.split()) <= text_max_len)]\n",
    "data = data[data['Summary'].apply(lambda x: len(x.split()) <= summary_max_len)]\n",
    "print('전체 샘플수 :',(len(data)))"
   ]
  },
  {
   "cell_type": "markdown",
   "id": "82751f44-b08f-48ea-b5c3-bcd4f454d454",
   "metadata": {},
   "source": [
    "### 3) sos, eos token 추가"
   ]
  },
  {
   "cell_type": "code",
   "execution_count": 151,
   "id": "0812fdbf-a407-4ad6-8cd4-e0894cfd4dd8",
   "metadata": {},
   "outputs": [
    {
     "data": {
      "text/html": [
       "<div>\n",
       "<style scoped>\n",
       "    .dataframe tbody tr th:only-of-type {\n",
       "        vertical-align: middle;\n",
       "    }\n",
       "\n",
       "    .dataframe tbody tr th {\n",
       "        vertical-align: top;\n",
       "    }\n",
       "\n",
       "    .dataframe thead th {\n",
       "        text-align: right;\n",
       "    }\n",
       "</style>\n",
       "<table border=\"1\" class=\"dataframe\">\n",
       "  <thead>\n",
       "    <tr style=\"text-align: right;\">\n",
       "      <th></th>\n",
       "      <th>Text</th>\n",
       "      <th>Summary</th>\n",
       "      <th>decoder_input</th>\n",
       "      <th>decoder_target</th>\n",
       "    </tr>\n",
       "  </thead>\n",
       "  <tbody>\n",
       "    <tr>\n",
       "      <th>0</th>\n",
       "      <td>bought several vitality canned dog food produc...</td>\n",
       "      <td>good quality dog food</td>\n",
       "      <td>sostoken good quality dog food</td>\n",
       "      <td>good quality dog food eostoken</td>\n",
       "    </tr>\n",
       "    <tr>\n",
       "      <th>1</th>\n",
       "      <td>product arrived labeled jumbo salted peanuts p...</td>\n",
       "      <td>advertised</td>\n",
       "      <td>sostoken advertised</td>\n",
       "      <td>advertised eostoken</td>\n",
       "    </tr>\n",
       "    <tr>\n",
       "      <th>2</th>\n",
       "      <td>confection around centuries light pillowy citr...</td>\n",
       "      <td>delight says</td>\n",
       "      <td>sostoken delight says</td>\n",
       "      <td>delight says eostoken</td>\n",
       "    </tr>\n",
       "    <tr>\n",
       "      <th>3</th>\n",
       "      <td>looking secret ingredient robitussin believe f...</td>\n",
       "      <td>cough medicine</td>\n",
       "      <td>sostoken cough medicine</td>\n",
       "      <td>cough medicine eostoken</td>\n",
       "    </tr>\n",
       "    <tr>\n",
       "      <th>4</th>\n",
       "      <td>great taffy great price wide assortment yummy ...</td>\n",
       "      <td>great taffy</td>\n",
       "      <td>sostoken great taffy</td>\n",
       "      <td>great taffy eostoken</td>\n",
       "    </tr>\n",
       "  </tbody>\n",
       "</table>\n",
       "</div>"
      ],
      "text/plain": [
       "                                                Text                Summary  \\\n",
       "0  bought several vitality canned dog food produc...  good quality dog food   \n",
       "1  product arrived labeled jumbo salted peanuts p...             advertised   \n",
       "2  confection around centuries light pillowy citr...           delight says   \n",
       "3  looking secret ingredient robitussin believe f...         cough medicine   \n",
       "4  great taffy great price wide assortment yummy ...            great taffy   \n",
       "\n",
       "                    decoder_input                  decoder_target  \n",
       "0  sostoken good quality dog food  good quality dog food eostoken  \n",
       "1             sostoken advertised             advertised eostoken  \n",
       "2           sostoken delight says           delight says eostoken  \n",
       "3         sostoken cough medicine         cough medicine eostoken  \n",
       "4            sostoken great taffy            great taffy eostoken  "
      ]
     },
     "execution_count": 151,
     "metadata": {},
     "output_type": "execute_result"
    }
   ],
   "source": [
    "data['decoder_input'] = data['Summary'].apply(lambda x : 'sostoken '+ x)\n",
    "data['decoder_target'] = data['Summary'].apply(lambda x : x + ' eostoken')\n",
    "data.head()"
   ]
  },
  {
   "cell_type": "code",
   "execution_count": 152,
   "id": "380f36c2-2615-425b-a355-72e9421bded6",
   "metadata": {},
   "outputs": [],
   "source": [
    "encoder_input = np.array(data['Text'])\n",
    "decoder_input = np.array(data['decoder_input'])\n",
    "decoder_target = np.array(data['decoder_target'])"
   ]
  },
  {
   "cell_type": "markdown",
   "id": "55ce8a08-4240-4c01-9ccc-16b186a96276",
   "metadata": {},
   "source": [
    "# 2. Train/Test Split"
   ]
  },
  {
   "cell_type": "code",
   "execution_count": 153,
   "id": "a6139233-d52e-4e51-989a-60611bce735e",
   "metadata": {},
   "outputs": [],
   "source": [
    "# shuffle data\n",
    "indices = np.arange(encoder_input.shape[0])\n",
    "np.random.shuffle(indices)\n",
    "\n",
    "encoder_input = encoder_input[indices]\n",
    "decoder_input = decoder_input[indices]\n",
    "decoder_target = decoder_target[indices]"
   ]
  },
  {
   "cell_type": "code",
   "execution_count": 154,
   "id": "d797e3e4-37c7-4021-97d2-82f7444adef8",
   "metadata": {},
   "outputs": [
    {
     "data": {
      "text/plain": [
       "70161"
      ]
     },
     "execution_count": 154,
     "metadata": {},
     "output_type": "execute_result"
    }
   ],
   "source": [
    "num_vals = int(len(encoder_input)*0.2) # 80:20 split\n",
    "num_vals"
   ]
  },
  {
   "cell_type": "code",
   "execution_count": 155,
   "id": "6b4439ba-716c-4043-937a-8773d942af57",
   "metadata": {},
   "outputs": [],
   "source": [
    "encoder_input_train = encoder_input[:-num_vals]\n",
    "decoder_input_train = decoder_input[:-num_vals]\n",
    "decoder_target_train = decoder_target[:-num_vals]\n",
    "\n",
    "encoder_input_test = encoder_input[-num_vals:]\n",
    "decoder_input_test = decoder_input[-num_vals:]\n",
    "decoder_target_test = decoder_target[-num_vals:]"
   ]
  },
  {
   "cell_type": "code",
   "execution_count": 156,
   "id": "7ea8244b-1f7d-472d-8a30-2227b82b737c",
   "metadata": {},
   "outputs": [
    {
     "name": "stdout",
     "output_type": "stream",
     "text": [
      "훈련 데이터의 개수 : 280647\n",
      "훈련 레이블의 개수 : 280647\n",
      "테스트 데이터의 개수 : 70161\n",
      "테스트 레이블의 개수 : 70161\n"
     ]
    }
   ],
   "source": [
    "print('훈련 데이터의 개수 :', len(encoder_input_train))\n",
    "print('훈련 레이블의 개수 :',len(decoder_input_train))\n",
    "print('테스트 데이터의 개수 :',len(encoder_input_test))\n",
    "print('테스트 레이블의 개수 :',len(decoder_input_test))"
   ]
  },
  {
   "cell_type": "markdown",
   "id": "2cf456a2-408f-4275-87a7-c956cb6a4b6c",
   "metadata": {},
   "source": [
    "# 3. encoding"
   ]
  },
  {
   "cell_type": "code",
   "execution_count": 157,
   "id": "0d262991-1cb8-41e7-80c9-c3e01453664a",
   "metadata": {},
   "outputs": [],
   "source": [
    "tokenizer = Tokenizer()\n",
    "tokenizer.fit_on_texts(encoder_input_train)"
   ]
  },
  {
   "cell_type": "code",
   "execution_count": 158,
   "id": "4f287d59-ec05-428e-87ee-bd5e3ff6cfda",
   "metadata": {},
   "outputs": [
    {
     "name": "stdout",
     "output_type": "stream",
     "text": [
      "단어 집합(vocabulary)의 크기 : 85578\n",
      "등장 빈도가 6번 이하인 희귀 단어의 수: 64722\n",
      "단어 집합에서 희귀 단어를 제외시킬 경우의 단어 집합의 크기 20856\n",
      "단어 집합에서 희귀 단어의 비율: 75.6292505083082\n",
      "전체 등장 빈도에서 희귀 단어 등장 빈도 비율: 1.340542569713336\n"
     ]
    }
   ],
   "source": [
    "threshold = 7\n",
    "total_cnt = len(tokenizer.word_index) # 단어의 수\n",
    "rare_cnt = 0 # 등장 빈도수가 threshold보다 작은 단어의 개수를 카운트\n",
    "total_freq = 0 # 훈련 데이터의 전체 단어 빈도수 총 합\n",
    "rare_freq = 0 # 등장 빈도수가 threshold보다 작은 단어의 등장 빈도수의 총 합\n",
    "\n",
    "# 단어와 빈도수의 쌍(pair)을 key와 value로 받는다.\n",
    "for key, value in tokenizer.word_counts.items():\n",
    "    total_freq = total_freq + value\n",
    "\n",
    "    # 단어의 등장 빈도수가 threshold보다 작으면\n",
    "    if(value < threshold):\n",
    "        rare_cnt = rare_cnt + 1\n",
    "        rare_freq = rare_freq + value\n",
    "\n",
    "print('단어 집합(vocabulary)의 크기 :',total_cnt)\n",
    "print('등장 빈도가 %s번 이하인 희귀 단어의 수: %s'%(threshold - 1, rare_cnt))\n",
    "print('단어 집합에서 희귀 단어를 제외시킬 경우의 단어 집합의 크기 %s'%(total_cnt - rare_cnt))\n",
    "print(\"단어 집합에서 희귀 단어의 비율:\", (rare_cnt / total_cnt)*100)\n",
    "print(\"전체 등장 빈도에서 희귀 단어 등장 빈도 비율:\", (rare_freq / total_freq)*100)"
   ]
  },
  {
   "cell_type": "markdown",
   "id": "e81b258e-1164-4169-afc7-1bd5ad804ed8",
   "metadata": {},
   "source": [
    "unique tokens 중 5번 이하로 나오는 token들은 약 56000개로 토큰의 74%에 해당하지만, 전체 token에서 1%밖에 차지하지 않는다. --> 삭제할 것\n",
    "\n",
    "### 1) encoder_input encoding"
   ]
  },
  {
   "cell_type": "code",
   "execution_count": 159,
   "id": "2d5447e6-b9b9-4b28-bf3c-104072a6267e",
   "metadata": {},
   "outputs": [],
   "source": [
    "src_vocab = 18000\n",
    "src_tokenizer = Tokenizer(num_words = src_vocab) \n",
    "src_tokenizer.fit_on_texts(encoder_input_train)\n",
    "\n",
    "# 텍스트 시퀀스를 정수 시퀀스로 변환\n",
    "encoder_input_train = src_tokenizer.texts_to_sequences(encoder_input_train) \n",
    "encoder_input_test = src_tokenizer.texts_to_sequences(encoder_input_test)"
   ]
  },
  {
   "cell_type": "code",
   "execution_count": 160,
   "id": "ea819de9-2a91-4c71-9286-86b15b1e2156",
   "metadata": {},
   "outputs": [
    {
     "data": {
      "text/plain": [
       "[[168, 81, 19, 204, 7, 282, 25, 10, 17, 28, 18],\n",
       " [3,\n",
       "  5,\n",
       "  180,\n",
       "  151,\n",
       "  44,\n",
       "  1473,\n",
       "  141,\n",
       "  102,\n",
       "  41,\n",
       "  313,\n",
       "  1281,\n",
       "  125,\n",
       "  2062,\n",
       "  5,\n",
       "  1440,\n",
       "  151,\n",
       "  44,\n",
       "  180,\n",
       "  350,\n",
       "  928,\n",
       "  71,\n",
       "  2991,\n",
       "  2524,\n",
       "  5,\n",
       "  1011],\n",
       " [19,\n",
       "  593,\n",
       "  2269,\n",
       "  337,\n",
       "  77,\n",
       "  33,\n",
       "  145,\n",
       "  3,\n",
       "  356,\n",
       "  141,\n",
       "  5,\n",
       "  2413,\n",
       "  285,\n",
       "  14,\n",
       "  85,\n",
       "  749,\n",
       "  16,\n",
       "  593,\n",
       "  31,\n",
       "  692,\n",
       "  31,\n",
       "  108,\n",
       "  1234,\n",
       "  1321,\n",
       "  1664,\n",
       "  134,\n",
       "  53,\n",
       "  3197,\n",
       "  14920]]"
      ]
     },
     "execution_count": 160,
     "metadata": {},
     "output_type": "execute_result"
    }
   ],
   "source": [
    "encoder_input_train[:3]"
   ]
  },
  {
   "cell_type": "markdown",
   "id": "8d4e8ed6-4adb-4cef-ac51-55cc70a5e86f",
   "metadata": {},
   "source": [
    "### 2) decoder_input encoding"
   ]
  },
  {
   "cell_type": "code",
   "execution_count": 161,
   "id": "c0912d60-1add-4424-ba6c-bf18c012c668",
   "metadata": {},
   "outputs": [
    {
     "name": "stdout",
     "output_type": "stream",
     "text": [
      "단어 집합(vocabulary)의 크기 : 85578\n",
      "등장 빈도가 5번 이하인 희귀 단어의 수: 63084\n",
      "단어 집합에서 희귀 단어를 제외시킬 경우의 단어 집합의 크기 22494\n",
      "단어 집합에서 희귀 단어의 비율: 73.71520717941526\n",
      "전체 등장 빈도에서 희귀 단어 등장 빈도 비율: 1.221529621545364\n"
     ]
    }
   ],
   "source": [
    "threshold = 6\n",
    "total_cnt = len(tokenizer.word_index) # 단어의 수\n",
    "rare_cnt = 0 # 등장 빈도수가 threshold보다 작은 단어의 개수를 카운트\n",
    "total_freq = 0 # 훈련 데이터의 전체 단어 빈도수 총 합\n",
    "rare_freq = 0 # 등장 빈도수가 threshold보다 작은 단어의 등장 빈도수의 총 합\n",
    "\n",
    "# 단어와 빈도수의 쌍(pair)을 key와 value로 받는다.\n",
    "for key, value in tokenizer.word_counts.items():\n",
    "    total_freq = total_freq + value\n",
    "\n",
    "    # 단어의 등장 빈도수가 threshold보다 작으면\n",
    "    if(value < threshold):\n",
    "        rare_cnt = rare_cnt + 1\n",
    "        rare_freq = rare_freq + value\n",
    "\n",
    "print('단어 집합(vocabulary)의 크기 :',total_cnt)\n",
    "print('등장 빈도가 %s번 이하인 희귀 단어의 수: %s'%(threshold - 1, rare_cnt))\n",
    "print('단어 집합에서 희귀 단어를 제외시킬 경우의 단어 집합의 크기 %s'%(total_cnt - rare_cnt))\n",
    "print(\"단어 집합에서 희귀 단어의 비율:\", (rare_cnt / total_cnt)*100)\n",
    "print(\"전체 등장 빈도에서 희귀 단어 등장 빈도 비율:\", (rare_freq / total_freq)*100)"
   ]
  },
  {
   "cell_type": "code",
   "execution_count": 162,
   "id": "c2d1997a-39a5-4f59-8201-e00dbc78f4d8",
   "metadata": {},
   "outputs": [],
   "source": [
    "tar_vocab = 19000\n",
    "tar_tokenizer = Tokenizer(num_words = tar_vocab) \n",
    "tar_tokenizer.fit_on_texts(decoder_input_train)\n",
    "tar_tokenizer.fit_on_texts(decoder_target_train)"
   ]
  },
  {
   "cell_type": "code",
   "execution_count": 163,
   "id": "84a51535-8029-4bae-80ba-cc34b0c0a7ae",
   "metadata": {},
   "outputs": [],
   "source": [
    "# 텍스트 시퀀스를 정수 시퀀스로 변환\n",
    "decoder_input_train = tar_tokenizer.texts_to_sequences(decoder_input_train) \n",
    "decoder_target_train = tar_tokenizer.texts_to_sequences(decoder_target_train)\n",
    "decoder_input_test = tar_tokenizer.texts_to_sequences(decoder_input_test)\n",
    "decoder_target_test = tar_tokenizer.texts_to_sequences(decoder_target_test)"
   ]
  },
  {
   "cell_type": "code",
   "execution_count": 164,
   "id": "1444db8c-354b-4104-afd3-de565170c933",
   "metadata": {},
   "outputs": [
    {
     "data": {
      "text/plain": [
       "[[1, 1886, 1829, 7, 112, 13209],\n",
       " [1, 3, 8],\n",
       " [1, 32, 1407],\n",
       " [1, 391],\n",
       " [1, 3, 64, 554, 73, 1738, 22]]"
      ]
     },
     "execution_count": 164,
     "metadata": {},
     "output_type": "execute_result"
    }
   ],
   "source": [
    "decoder_input_train[:5]"
   ]
  },
  {
   "cell_type": "markdown",
   "id": "b6b4e095-9dc4-441f-a8d8-ae86ac307454",
   "metadata": {},
   "source": [
    "### 3) remove empty samples"
   ]
  },
  {
   "cell_type": "code",
   "execution_count": 165,
   "id": "8723f198-357e-430d-9b48-c284eefd41f1",
   "metadata": {},
   "outputs": [
    {
     "name": "stdout",
     "output_type": "stream",
     "text": [
      "삭제할 훈련 데이터의 개수 : 1005\n",
      "삭제할 테스트 데이터의 개수 : 538\n"
     ]
    }
   ],
   "source": [
    "drop_train = [index for index, sentence in enumerate(decoder_input_train) if len(sentence) == 1]\n",
    "drop_test = [index for index, sentence in enumerate(decoder_input_test) if len(sentence) == 1]\n",
    "\n",
    "print('삭제할 훈련 데이터의 개수 :', len(drop_train))\n",
    "print('삭제할 테스트 데이터의 개수 :', len(drop_test))"
   ]
  },
  {
   "cell_type": "markdown",
   "id": "f4bfbfaf-8c3b-4f35-a447-41bd415a7962",
   "metadata": {},
   "source": [
    "### 4) padding"
   ]
  },
  {
   "cell_type": "code",
   "execution_count": 166,
   "id": "56e8c067-7309-4d63-8638-5d17bec81f56",
   "metadata": {},
   "outputs": [],
   "source": [
    "encoder_input_train = pad_sequences(encoder_input_train, maxlen = text_max_len, padding='post')\n",
    "encoder_input_test = pad_sequences(encoder_input_test, maxlen = text_max_len, padding='post')\n",
    "decoder_input_train = pad_sequences(decoder_input_train, maxlen = summary_max_len, padding='post')\n",
    "decoder_target_train = pad_sequences(decoder_target_train, maxlen = summary_max_len, padding='post')\n",
    "decoder_input_test = pad_sequences(decoder_input_test, maxlen = summary_max_len, padding='post')\n",
    "decoder_target_test = pad_sequences(decoder_target_test, maxlen = summary_max_len, padding='post')"
   ]
  },
  {
   "cell_type": "markdown",
   "id": "212538ee-fc23-4567-8fa7-2bc2bd54a63c",
   "metadata": {},
   "source": [
    "# 4. Model Training"
   ]
  },
  {
   "cell_type": "code",
   "execution_count": 167,
   "id": "c220d3cb-3e24-49ae-8715-6695b654231c",
   "metadata": {},
   "outputs": [],
   "source": [
    "from tensorflow.keras.layers import Input, LSTM, Embedding, Dense, Concatenate\n",
    "from tensorflow.keras.models import Model\n",
    "from tensorflow.keras.callbacks import EarlyStopping, ModelCheckpoint"
   ]
  },
  {
   "cell_type": "code",
   "execution_count": 168,
   "id": "005a2afc-8ca9-4ebb-ae12-d1b95cb45766",
   "metadata": {},
   "outputs": [],
   "source": [
    "embedding_dim = 128\n",
    "hidden_size = 256\n",
    "\n",
    "# 인코더\n",
    "encoder_inputs = Input(shape=(text_max_len,))\n",
    "\n",
    "# 인코더의 임베딩 층\n",
    "enc_emb = Embedding(src_vocab, embedding_dim)(encoder_inputs)\n",
    "\n",
    "# 인코더의 LSTM 1\n",
    "encoder_lstm1 = LSTM(hidden_size, return_sequences=True, return_state=True ,dropout = 0.4)\n",
    "encoder_output1, state_h1, state_c1 = encoder_lstm1(enc_emb)\n",
    "\n",
    "# 인코더의 LSTM 2\n",
    "encoder_lstm2 = LSTM(hidden_size, return_sequences=True, return_state=True, dropout=0.4)\n",
    "encoder_output2, state_h2, state_c2 = encoder_lstm2(encoder_output1)\n",
    "\n",
    "# 인코더의 LSTM 3\n",
    "encoder_lstm3 = LSTM(hidden_size, return_state=True, return_sequences=True, dropout=0.4)\n",
    "encoder_outputs, state_h, state_c= encoder_lstm3(encoder_output2)"
   ]
  },
  {
   "cell_type": "code",
   "execution_count": 169,
   "id": "cf52c719-0a6b-47a0-9173-a431dbda49a6",
   "metadata": {},
   "outputs": [],
   "source": [
    "# 디코더\n",
    "decoder_inputs = Input(shape=(None,))\n",
    "\n",
    "# 디코더의 임베딩 층\n",
    "dec_emb_layer = Embedding(tar_vocab, embedding_dim)\n",
    "dec_emb = dec_emb_layer(decoder_inputs)\n",
    "\n",
    "# 디코더의 LSTM\n",
    "decoder_lstm = LSTM(hidden_size, return_sequences = True, return_state = True, dropout = 0.4)\n",
    "decoder_outputs, _, _ = decoder_lstm(dec_emb, initial_state = [state_h, state_c])"
   ]
  },
  {
   "cell_type": "code",
   "execution_count": 170,
   "id": "008fc66d-0d6d-4cea-9f79-9104217a08a7",
   "metadata": {},
   "outputs": [
    {
     "name": "stdout",
     "output_type": "stream",
     "text": [
      "Model: \"model_10\"\n",
      "__________________________________________________________________________________________________\n",
      "Layer (type)                    Output Shape         Param #     Connected to                     \n",
      "==================================================================================================\n",
      "input_13 (InputLayer)           [(None, 80)]         0                                            \n",
      "__________________________________________________________________________________________________\n",
      "embedding_6 (Embedding)         (None, 80, 128)      2304000     input_13[0][0]                   \n",
      "__________________________________________________________________________________________________\n",
      "lstm_12 (LSTM)                  [(None, 80, 256), (N 394240      embedding_6[0][0]                \n",
      "__________________________________________________________________________________________________\n",
      "input_14 (InputLayer)           [(None, None)]       0                                            \n",
      "__________________________________________________________________________________________________\n",
      "lstm_13 (LSTM)                  [(None, 80, 256), (N 525312      lstm_12[0][0]                    \n",
      "__________________________________________________________________________________________________\n",
      "embedding_7 (Embedding)         (None, None, 128)    2432000     input_14[0][0]                   \n",
      "__________________________________________________________________________________________________\n",
      "lstm_14 (LSTM)                  [(None, 80, 256), (N 525312      lstm_13[0][0]                    \n",
      "__________________________________________________________________________________________________\n",
      "lstm_15 (LSTM)                  [(None, None, 256),  394240      embedding_7[0][0]                \n",
      "                                                                 lstm_14[0][1]                    \n",
      "                                                                 lstm_14[0][2]                    \n",
      "__________________________________________________________________________________________________\n",
      "dense_6 (Dense)                 (None, None, 19000)  4883000     lstm_15[0][0]                    \n",
      "==================================================================================================\n",
      "Total params: 11,458,104\n",
      "Trainable params: 11,458,104\n",
      "Non-trainable params: 0\n",
      "__________________________________________________________________________________________________\n"
     ]
    }
   ],
   "source": [
    "# 디코더의 출력층\n",
    "decoder_softmax_layer = Dense(tar_vocab, activation = 'softmax')\n",
    "decoder_softmax_outputs = decoder_softmax_layer(decoder_outputs) \n",
    "\n",
    "# 모델 정의\n",
    "model = Model([encoder_inputs, decoder_inputs], decoder_softmax_outputs)\n",
    "model.summary()"
   ]
  },
  {
   "cell_type": "code",
   "execution_count": 171,
   "id": "f87c3011-e7cb-46d3-8282-953866d35c5d",
   "metadata": {},
   "outputs": [],
   "source": [
    "# Download Bahdanau Attention\n",
    "urllib.request.urlretrieve(\"https://raw.githubusercontent.com/thushv89/attention_keras/master/src/layers/attention.py\", filename=\"attention.py\")\n",
    "from attention import AttentionLayer"
   ]
  },
  {
   "cell_type": "code",
   "execution_count": 172,
   "id": "c50b1cba-0f23-4e09-a645-3cb32d510651",
   "metadata": {},
   "outputs": [
    {
     "name": "stdout",
     "output_type": "stream",
     "text": [
      "Model: \"model_11\"\n",
      "__________________________________________________________________________________________________\n",
      "Layer (type)                    Output Shape         Param #     Connected to                     \n",
      "==================================================================================================\n",
      "input_13 (InputLayer)           [(None, 80)]         0                                            \n",
      "__________________________________________________________________________________________________\n",
      "embedding_6 (Embedding)         (None, 80, 128)      2304000     input_13[0][0]                   \n",
      "__________________________________________________________________________________________________\n",
      "lstm_12 (LSTM)                  [(None, 80, 256), (N 394240      embedding_6[0][0]                \n",
      "__________________________________________________________________________________________________\n",
      "input_14 (InputLayer)           [(None, None)]       0                                            \n",
      "__________________________________________________________________________________________________\n",
      "lstm_13 (LSTM)                  [(None, 80, 256), (N 525312      lstm_12[0][0]                    \n",
      "__________________________________________________________________________________________________\n",
      "embedding_7 (Embedding)         (None, None, 128)    2432000     input_14[0][0]                   \n",
      "__________________________________________________________________________________________________\n",
      "lstm_14 (LSTM)                  [(None, 80, 256), (N 525312      lstm_13[0][0]                    \n",
      "__________________________________________________________________________________________________\n",
      "lstm_15 (LSTM)                  [(None, None, 256),  394240      embedding_7[0][0]                \n",
      "                                                                 lstm_14[0][1]                    \n",
      "                                                                 lstm_14[0][2]                    \n",
      "__________________________________________________________________________________________________\n",
      "attention_layer (AttentionLayer ((None, None, 256),  131328      lstm_14[0][0]                    \n",
      "                                                                 lstm_15[0][0]                    \n",
      "__________________________________________________________________________________________________\n",
      "concat_layer (Concatenate)      (None, None, 512)    0           lstm_15[0][0]                    \n",
      "                                                                 attention_layer[0][0]            \n",
      "__________________________________________________________________________________________________\n",
      "dense_7 (Dense)                 (None, None, 19000)  9747000     concat_layer[0][0]               \n",
      "==================================================================================================\n",
      "Total params: 16,453,432\n",
      "Trainable params: 16,453,432\n",
      "Non-trainable params: 0\n",
      "__________________________________________________________________________________________________\n"
     ]
    }
   ],
   "source": [
    "# 어텐션 층(어텐션 함수)\n",
    "attn_layer = AttentionLayer(name='attention_layer')\n",
    "attn_out, attn_states = attn_layer([encoder_outputs, decoder_outputs])\n",
    "\n",
    "# 어텐션의 결과와 디코더의 hidden state들을 연결\n",
    "decoder_concat_input = Concatenate(axis = -1, name='concat_layer')([decoder_outputs, attn_out])\n",
    "\n",
    "# 디코더의 출력층\n",
    "decoder_softmax_layer = Dense(tar_vocab, activation='softmax')\n",
    "decoder_softmax_outputs = decoder_softmax_layer(decoder_concat_input)\n",
    "\n",
    "# 모델 정의\n",
    "model = Model([encoder_inputs, decoder_inputs], decoder_softmax_outputs)\n",
    "model.summary()"
   ]
  },
  {
   "cell_type": "code",
   "execution_count": 173,
   "id": "9274d92f-85f3-4b04-bc0b-397647793c52",
   "metadata": {},
   "outputs": [],
   "source": [
    "model.compile(optimizer='rmsprop', loss='sparse_categorical_crossentropy', metrics=['accuracy'])"
   ]
  },
  {
   "cell_type": "code",
   "execution_count": 106,
   "id": "b57cfb5a-6f4e-45bd-97f5-72f46fdb7926",
   "metadata": {},
   "outputs": [],
   "source": [
    "import tensorflow as tf"
   ]
  },
  {
   "cell_type": "code",
   "execution_count": 174,
   "id": "79f5a519-5caf-478b-8d21-c250b91a01b5",
   "metadata": {},
   "outputs": [],
   "source": [
    "checkpoint_path = './checkpoints/possesive/training_checkpoints_{epoch:02d}_poss.hdf5'\n",
    "checkpoint_dir = os.path.dirname(checkpoint_path)# Create a callback that saves the model's weights\n",
    "cp_callback = tf.keras.callbacks.ModelCheckpoint(filepath=checkpoint_path,\n",
    "                                    save_weights_only=True,\n",
    "                                    save_best_only=True,\n",
    "                                    verbose=1)\n",
    "# Train the model with the new callback"
   ]
  },
  {
   "cell_type": "code",
   "execution_count": 176,
   "id": "5cb69072-935b-45c7-8e4e-20ddbebf7add",
   "metadata": {},
   "outputs": [
    {
     "name": "stdout",
     "output_type": "stream",
     "text": [
      "Epoch 1/50\n",
      "1097/1097 [==============================] - 144s 132ms/step - loss: 2.7443 - accuracy: 0.6049 - val_loss: 2.6442 - val_accuracy: 0.6132\n",
      "\n",
      "Epoch 00001: val_loss improved from 2.78536 to 2.64425, saving model to ./checkpoints/possesive/training_checkpoints_01_poss.hdf5\n",
      "Epoch 2/50\n",
      "1097/1097 [==============================] - 145s 132ms/step - loss: 2.6291 - accuracy: 0.6135 - val_loss: 2.5595 - val_accuracy: 0.6188\n",
      "\n",
      "Epoch 00002: val_loss improved from 2.64425 to 2.55951, saving model to ./checkpoints/possesive/training_checkpoints_02_poss.hdf5\n",
      "Epoch 3/50\n",
      "1097/1097 [==============================] - 145s 132ms/step - loss: 2.5541 - accuracy: 0.6187 - val_loss: 2.5115 - val_accuracy: 0.6204\n",
      "\n",
      "Epoch 00003: val_loss improved from 2.55951 to 2.51145, saving model to ./checkpoints/possesive/training_checkpoints_03_poss.hdf5\n",
      "Epoch 4/50\n",
      "1097/1097 [==============================] - 145s 133ms/step - loss: 2.5019 - accuracy: 0.6226 - val_loss: 2.4715 - val_accuracy: 0.6253\n",
      "\n",
      "Epoch 00004: val_loss improved from 2.51145 to 2.47150, saving model to ./checkpoints/possesive/training_checkpoints_04_poss.hdf5\n",
      "Epoch 5/50\n",
      "1097/1097 [==============================] - 145s 132ms/step - loss: 2.4613 - accuracy: 0.6256 - val_loss: 2.4472 - val_accuracy: 0.6275\n",
      "\n",
      "Epoch 00005: val_loss improved from 2.47150 to 2.44719, saving model to ./checkpoints/possesive/training_checkpoints_05_poss.hdf5\n",
      "Epoch 6/50\n",
      "1097/1097 [==============================] - 145s 132ms/step - loss: 2.4311 - accuracy: 0.6280 - val_loss: 2.4246 - val_accuracy: 0.6284\n",
      "\n",
      "Epoch 00006: val_loss improved from 2.44719 to 2.42462, saving model to ./checkpoints/possesive/training_checkpoints_06_poss.hdf5\n",
      "Epoch 7/50\n",
      "1097/1097 [==============================] - 145s 133ms/step - loss: 2.4078 - accuracy: 0.6299 - val_loss: 2.4252 - val_accuracy: 0.6278\n",
      "\n",
      "Epoch 00007: val_loss did not improve from 2.42462\n",
      "Epoch 8/50\n",
      "1097/1097 [==============================] - 145s 132ms/step - loss: 2.3906 - accuracy: 0.6313 - val_loss: 2.4106 - val_accuracy: 0.6306\n",
      "\n",
      "Epoch 00008: val_loss improved from 2.42462 to 2.41059, saving model to ./checkpoints/possesive/training_checkpoints_08_poss.hdf5\n",
      "Epoch 9/50\n",
      "1097/1097 [==============================] - 145s 132ms/step - loss: 2.3715 - accuracy: 0.6326 - val_loss: 2.3971 - val_accuracy: 0.6293\n",
      "\n",
      "Epoch 00009: val_loss improved from 2.41059 to 2.39706, saving model to ./checkpoints/possesive/training_checkpoints_09_poss.hdf5\n",
      "Epoch 10/50\n",
      "1097/1097 [==============================] - 145s 132ms/step - loss: 2.3552 - accuracy: 0.6337 - val_loss: 2.3885 - val_accuracy: 0.6301\n",
      "\n",
      "Epoch 00010: val_loss improved from 2.39706 to 2.38850, saving model to ./checkpoints/possesive/training_checkpoints_10_poss.hdf5\n",
      "Epoch 11/50\n",
      "1097/1097 [==============================] - 145s 132ms/step - loss: 2.3397 - accuracy: 0.6349 - val_loss: 2.3825 - val_accuracy: 0.6320\n",
      "\n",
      "Epoch 00011: val_loss improved from 2.38850 to 2.38253, saving model to ./checkpoints/possesive/training_checkpoints_11_poss.hdf5\n",
      "Epoch 12/50\n",
      "1097/1097 [==============================] - 145s 132ms/step - loss: 2.3266 - accuracy: 0.6358 - val_loss: 2.3811 - val_accuracy: 0.6321\n",
      "\n",
      "Epoch 00012: val_loss improved from 2.38253 to 2.38109, saving model to ./checkpoints/possesive/training_checkpoints_12_poss.hdf5\n",
      "Epoch 13/50\n",
      "1097/1097 [==============================] - 145s 132ms/step - loss: 2.3174 - accuracy: 0.6367 - val_loss: 2.3716 - val_accuracy: 0.6318\n",
      "\n",
      "Epoch 00013: val_loss improved from 2.38109 to 2.37158, saving model to ./checkpoints/possesive/training_checkpoints_13_poss.hdf5\n",
      "Epoch 14/50\n",
      "1097/1097 [==============================] - 145s 132ms/step - loss: 2.3034 - accuracy: 0.6374 - val_loss: 2.3753 - val_accuracy: 0.6320\n",
      "\n",
      "Epoch 00014: val_loss did not improve from 2.37158\n",
      "Epoch 15/50\n",
      "1097/1097 [==============================] - 145s 132ms/step - loss: 2.2969 - accuracy: 0.6383 - val_loss: 2.3724 - val_accuracy: 0.6322\n",
      "\n",
      "Epoch 00015: val_loss did not improve from 2.37158\n",
      "Epoch 16/50\n",
      "1097/1097 [==============================] - 145s 132ms/step - loss: 2.2873 - accuracy: 0.6393 - val_loss: 2.3755 - val_accuracy: 0.6325\n",
      "\n",
      "Epoch 00016: val_loss did not improve from 2.37158\n",
      "Epoch 17/50\n",
      "1097/1097 [==============================] - 145s 132ms/step - loss: 2.2770 - accuracy: 0.6399 - val_loss: 2.3728 - val_accuracy: 0.6345\n",
      "\n",
      "Epoch 00017: val_loss did not improve from 2.37158\n",
      "Epoch 18/50\n",
      "1097/1097 [==============================] - 145s 132ms/step - loss: 2.2679 - accuracy: 0.6404 - val_loss: 2.3745 - val_accuracy: 0.6331\n",
      "\n",
      "Epoch 00018: val_loss did not improve from 2.37158\n",
      "Epoch 19/50\n",
      "1097/1097 [==============================] - 145s 132ms/step - loss: 2.2564 - accuracy: 0.6410 - val_loss: 2.3773 - val_accuracy: 0.6338\n",
      "\n",
      "Epoch 00019: val_loss did not improve from 2.37158\n",
      "Epoch 20/50\n",
      "1097/1097 [==============================] - 145s 132ms/step - loss: 2.2446 - accuracy: 0.6416 - val_loss: 2.3689 - val_accuracy: 0.6334\n",
      "\n",
      "Epoch 00020: val_loss improved from 2.37158 to 2.36889, saving model to ./checkpoints/possesive/training_checkpoints_20_poss.hdf5\n",
      "Epoch 21/50\n",
      "1097/1097 [==============================] - 145s 132ms/step - loss: 2.2330 - accuracy: 0.6423 - val_loss: 2.3848 - val_accuracy: 0.6333\n",
      "\n",
      "Epoch 00021: val_loss did not improve from 2.36889\n",
      "Epoch 22/50\n",
      "1097/1097 [==============================] - 145s 132ms/step - loss: 2.2180 - accuracy: 0.6429 - val_loss: 2.3755 - val_accuracy: 0.6326\n",
      "\n",
      "Epoch 00022: val_loss did not improve from 2.36889\n",
      "Epoch 23/50\n",
      "1097/1097 [==============================] - 145s 132ms/step - loss: 2.2046 - accuracy: 0.6435 - val_loss: 2.3747 - val_accuracy: 0.6339\n",
      "\n",
      "Epoch 00023: val_loss did not improve from 2.36889\n",
      "Epoch 24/50\n",
      "1097/1097 [==============================] - 145s 132ms/step - loss: 2.1903 - accuracy: 0.6444 - val_loss: 2.3769 - val_accuracy: 0.6316\n",
      "\n",
      "Epoch 00024: val_loss did not improve from 2.36889\n",
      "Epoch 25/50\n",
      "1097/1097 [==============================] - 145s 132ms/step - loss: 2.1811 - accuracy: 0.6447 - val_loss: 2.3817 - val_accuracy: 0.6340\n",
      "\n",
      "Epoch 00025: val_loss did not improve from 2.36889\n",
      "Epoch 26/50\n",
      "1097/1097 [==============================] - 145s 132ms/step - loss: 2.1686 - accuracy: 0.6451 - val_loss: 2.3845 - val_accuracy: 0.6304\n",
      "\n",
      "Epoch 00026: val_loss did not improve from 2.36889\n",
      "Epoch 27/50\n",
      "1097/1097 [==============================] - 145s 132ms/step - loss: 2.1575 - accuracy: 0.6458 - val_loss: 2.3798 - val_accuracy: 0.6314\n",
      "\n",
      "Epoch 00027: val_loss did not improve from 2.36889\n",
      "Epoch 28/50\n",
      "1097/1097 [==============================] - 145s 132ms/step - loss: 2.1484 - accuracy: 0.6463 - val_loss: 2.3772 - val_accuracy: 0.6331\n",
      "\n",
      "Epoch 00028: val_loss did not improve from 2.36889\n",
      "Epoch 29/50\n",
      "1097/1097 [==============================] - 145s 132ms/step - loss: 2.1386 - accuracy: 0.6467 - val_loss: 2.3916 - val_accuracy: 0.6278\n",
      "\n",
      "Epoch 00029: val_loss did not improve from 2.36889\n",
      "Epoch 30/50\n",
      "1097/1097 [==============================] - 145s 132ms/step - loss: 2.1303 - accuracy: 0.6472 - val_loss: 2.3855 - val_accuracy: 0.6341\n",
      "\n",
      "Epoch 00030: val_loss did not improve from 2.36889\n",
      "Epoch 00030: early stopping\n"
     ]
    }
   ],
   "source": [
    "es = EarlyStopping(monitor='val_loss', mode='min', verbose=1, patience = 10)\n",
    "history = model.fit(x = [encoder_input_train, decoder_input_train], y = decoder_target_train, \\\n",
    "          validation_data = ([encoder_input_test, decoder_input_test], decoder_target_test),\n",
    "          batch_size = 256, callbacks=[es, cp_callback], epochs = 50)"
   ]
  },
  {
   "cell_type": "code",
   "execution_count": 179,
   "id": "9842247a-535d-4826-91cf-f76606654e11",
   "metadata": {},
   "outputs": [
    {
     "data": {
      "image/png": "[encoded data removed]",
      "text/plain": [
       "<Figure size 432x288 with 1 Axes>"
      ]
     },
     "metadata": {
      "needs_background": "light"
     },
     "output_type": "display_data"
    }
   ],
   "source": [
    "plt.plot(history.history['loss'], label='train')\n",
    "plt.plot(history.history['val_loss'], label='test')\n",
    "plt.legend()\n",
    "plt.show()"
   ]
  },
  {
   "cell_type": "code",
   "execution_count": 180,
   "id": "123746e0-90e3-4661-a637-9ad83bc42191",
   "metadata": {},
   "outputs": [
    {
     "data": {
      "image/png": "[encoded data removed]",
      "text/plain": [
       "<Figure size 432x288 with 1 Axes>"
      ]
     },
     "metadata": {
      "needs_background": "light"
     },
     "output_type": "display_data"
    }
   ],
   "source": [
    "plt.plot(history.history['accuracy'], label='train')\n",
    "plt.plot(history.history['val_accuracy'], label='test')\n",
    "plt.legend()\n",
    "plt.show()"
   ]
  },
  {
   "cell_type": "code",
   "execution_count": 181,
   "id": "216cdc71-b903-452d-ad49-1f9167e41b56",
   "metadata": {},
   "outputs": [],
   "source": [
    "src_index_to_word = src_tokenizer.index_word # 원문 단어 집합에서 정수 -> 단어를 얻음\n",
    "tar_word_to_index = tar_tokenizer.word_index # 요약 단어 집합에서 단어 -> 정수를 얻음\n",
    "tar_index_to_word = tar_tokenizer.index_word # 요약 단어 집합에서 정수 -> 단어를 얻음"
   ]
  },
  {
   "cell_type": "code",
   "execution_count": 182,
   "id": "e80bc268-bf7f-49a6-a5ea-b87b201b0ed2",
   "metadata": {},
   "outputs": [],
   "source": [
    "encoder_model = Model(inputs=encoder_inputs, outputs=[encoder_outputs, state_h, state_c])"
   ]
  },
  {
   "cell_type": "code",
   "execution_count": 183,
   "id": "500230db-beec-4725-b8e5-d911c187d14c",
   "metadata": {},
   "outputs": [],
   "source": [
    "# 이전 시점의 상태들을 저장하는 텐서\n",
    "decoder_state_input_h = Input(shape=(hidden_size,))\n",
    "decoder_state_input_c = Input(shape=(hidden_size,))\n",
    "\n",
    "dec_emb2 = dec_emb_layer(decoder_inputs)\n",
    "# 문장의 다음 단어를 예측하기 위해서 초기 상태(initial_state)를 이전 시점의 상태로 사용. 이는 뒤의 함수 decode_sequence()에 구현\n",
    "# 훈련 과정에서와 달리 LSTM의 리턴하는 은닉 상태와 셀 상태인 state_h와 state_c를 버리지 않음.\n",
    "decoder_outputs2, state_h2, state_c2 = decoder_lstm(dec_emb2, initial_state=[decoder_state_input_h, decoder_state_input_c])"
   ]
  },
  {
   "cell_type": "code",
   "execution_count": 184,
   "id": "f33fcac7-d978-4905-bd28-ea05e32b2fb7",
   "metadata": {},
   "outputs": [],
   "source": [
    "# 어텐션 함수\n",
    "decoder_hidden_state_input = Input(shape=(text_max_len, hidden_size))\n",
    "attn_out_inf, attn_states_inf = attn_layer([decoder_hidden_state_input, decoder_outputs2])\n",
    "decoder_inf_concat = Concatenate(axis=-1, name='concat')([decoder_outputs2, attn_out_inf])\n",
    "\n",
    "# 디코더의 출력층\n",
    "decoder_outputs2 = decoder_softmax_layer(decoder_inf_concat) \n",
    "\n",
    "# 최종 디코더 모델\n",
    "decoder_model = Model(\n",
    "    [decoder_inputs] + [decoder_hidden_state_input,decoder_state_input_h, decoder_state_input_c],\n",
    "    [decoder_outputs2] + [state_h2, state_c2])"
   ]
  },
  {
   "cell_type": "code",
   "execution_count": 185,
   "id": "78a5c2f6-ecdf-461a-8d50-bbfa00ae40aa",
   "metadata": {},
   "outputs": [],
   "source": [
    "def decode_sequence(input_seq):\n",
    "    # 입력으로부터 인코더의 상태를 얻음\n",
    "    e_out, e_h, e_c = encoder_model.predict(input_seq)\n",
    "\n",
    "     # <SOS>에 해당하는 토큰 생성\n",
    "    target_seq = np.zeros((1,1))\n",
    "    target_seq[0, 0] = tar_word_to_index['sostoken']\n",
    "\n",
    "    stop_condition = False\n",
    "    decoded_sentence = ''\n",
    "    while not stop_condition: # stop_condition이 True가 될 때까지 루프 반복\n",
    "\n",
    "        output_tokens, h, c = decoder_model.predict([target_seq] + [e_out, e_h, e_c])\n",
    "        sampled_token_index = np.argmax(output_tokens[0, -1, :])\n",
    "        sampled_token = tar_index_to_word[sampled_token_index]\n",
    "\n",
    "        if(sampled_token!='eostoken'):\n",
    "            decoded_sentence += ' '+sampled_token\n",
    "\n",
    "        #  <eos>에 도달하거나 최대 길이를 넘으면 중단.\n",
    "        if (sampled_token == 'eostoken'  or len(decoded_sentence.split()) >= (summary_max_len-1)):\n",
    "            stop_condition = True\n",
    "\n",
    "        # 길이가 1인 타겟 시퀀스를 업데이트\n",
    "        target_seq = np.zeros((1,1))\n",
    "        target_seq[0, 0] = sampled_token_index\n",
    "\n",
    "        # 상태를 업데이트 합니다.\n",
    "        e_h, e_c = h, c\n",
    "\n",
    "    return decoded_sentence"
   ]
  },
  {
   "cell_type": "code",
   "execution_count": 186,
   "id": "3deeecbe-6c54-47bd-838e-9cc8c0ede1a4",
   "metadata": {},
   "outputs": [],
   "source": [
    "# 원문의 정수 시퀀스를 텍스트 시퀀스로 변환\n",
    "def seq2text(input_seq):\n",
    "    temp=''\n",
    "    for i in input_seq:\n",
    "        if(i!=0):\n",
    "            temp = temp + src_index_to_word[i]+' '\n",
    "    return temp\n",
    "\n",
    "# 요약문의 정수 시퀀스를 텍스트 시퀀스로 변환\n",
    "def seq2summary(input_seq):\n",
    "    temp=''\n",
    "    for i in input_seq:\n",
    "        if((i!=0 and i!=tar_word_to_index['sostoken']) and i!=tar_word_to_index['eostoken']):\n",
    "            temp = temp + tar_index_to_word[i] + ' '\n",
    "    return temp"
   ]
  },
  {
   "cell_type": "code",
   "execution_count": null,
   "id": "204735b8-fca1-48bc-ad2f-910985588ed3",
   "metadata": {},
   "outputs": [
    {
     "name": "stdout",
     "output_type": "stream",
     "text": [
      "원문 :  believe actually fell upon brand marshalls never found course searched internet happy find amazon review escargots best ever incredible better restaurants bother even buying local supermarket simply compare hope company continues import escargot recipes never without bon appetite \n",
      "실제 요약문 : like france \n",
      "예측 요약문 :  best\n",
      "\n",
      "\n",
      "원문 :  good tasting tea decent price problem really tea probably drink green tea empty stomach sometimes turn green nausea eventually goes away remember drink empty stomach \n",
      "실제 요약문 : nice taste \n",
      "예측 요약문 :  good tea\n",
      "\n",
      "\n",
      "원문 :  love tea hot cold cream sugar plain great flavor sachet makes least two tall glasses tea \n",
      "실제 요약문 : new favorite iced tea \n",
      "예측 요약문 :  great tea\n",
      "\n",
      "\n",
      "원문 :  tasty bought son interested anything japanese last mouth chewy almost like gum swallow great flavor sweet tart highly recommend price good well pack believe \n",
      "실제 요약문 : tasty \n",
      "예측 요약문 :  yummy\n",
      "\n",
      "\n",
      "원문 :  exact brand expensive neighborhood health store oz cost getting great deal taste better butter used everything oatmeal sauteeing veggies say jar subtle coconut smell combined food none fact oil ghee good prefer coconut oil husband funny things loves especially crazy idea could oil would raise cholesterol actually aids body rather destroy like oils purchased particular brand less month ago love much ordered another shipment double order \n",
      "실제 요약문 : better expected \n",
      "예측 요약문 :  great price\n",
      "\n",
      "\n",
      "원문 :  chocolates chocolove may tasty treatment folks business anything shop support small business believe responsible small businesses work management chocolove refused pay work done friends mine longer buy chocolate many small chocolate companies around money go folks right thing \n",
      "실제 요약문 : love chocolove \n",
      "예측 요약문 :  chocolate\n",
      "\n",
      "\n",
      "원문 :  candy came really fast ate really fast matter fact need order \n",
      "실제 요약문 : great \n",
      "예측 요약문 :  candy\n",
      "\n",
      "\n",
      "원문 :  love low sugar iced coffee summer coming fall lattes combined fat free half half never feel guilty enjoying flavor good without bitterness tasted \n",
      "실제 요약문 : coffee house drinks kitchen \n",
      "예측 요약문 :  love\n",
      "\n",
      "\n",
      "원문 :  purchased cola syrup many test soda club soda making machine make many different flavors hard time find cola syrup produces taste coke cola searched world via internet yet find perfect consider cola syrup soda club cola syrup equals taste cost wise also soda club mix comes smaller container use less syrup get lot use little results end already ordering something else soda club would use cola syrup sell otherwise would order syrup \n",
      "실제 요약문 : tried use soda club unit \n",
      "예측 요약문 :  best soda ever\n",
      "\n",
      "\n",
      "원문 :  love pop chips pop chips best snack family need gluten free pop chips delicious six oz bags received amazon smashed pop crumbs amazon nothing buy amazon buy pop chips local store \n",
      "실제 요약문 : love pop chips \n",
      "예측 요약문 :  love chips\n",
      "\n",
      "\n",
      "원문 :  much healthy alternative chips taste great great crunch flavor bad taste baked chips regret order sale gone even regular price worth \n",
      "실제 요약문 : healthy alternative \n",
      "예측 요약문 :  great chips\n",
      "\n",
      "\n",
      "원문 :  corn bread one staple missed since becoming gluten free used use cheap little box mom mix comes close flavor texture works wonderfully pricey insanely makes good southern corn bread additional sweetener choice good new england cake type feel deprived anymore \n",
      "실제 요약문 : finally cornbread \n",
      "예측 요약문 :  great bread\n",
      "\n",
      "\n",
      "원문 :  recently invited baby mini doxie family existing lb chihuahua vet constantly told try would try hamburger cottage cheese things told would either get tummy ache gain weight bought food doxie mind fed chihuahua started gain weight within week watch portions give gain two healthy dogs help food doxie gets older continue buy eukanuba adult brand \n",
      "실제 요약문 : keeps pups healthy \n",
      "예측 요약문 :  dogs love\n",
      "\n",
      "\n",
      "원문 :  gone cups far bad tea earl grey opinion much prefer twinings one afraid complaint mind rather preference \n",
      "실제 요약문 : favorite earl grey \n",
      "예측 요약문 :  good\n",
      "\n",
      "\n",
      "원문 :  know lot parents struggle get children take supplements opposite problem house son begs set rule waiting tomorrow three means get next morning lol anyway recommended way affordable amazon upscale store keep hands pockets pharmacy town perfect combination nutrional convenience busy mom \n",
      "실제 요약문 : please nordic berries mama \n",
      "예측 요약문 :  great deal\n",
      "\n",
      "\n",
      "원문 :  taste great tell make run bathroom mins far happens sugar free gummy also tested another family member thing happened beware \n",
      "실제 요약문 : normal gummy \n",
      "예측 요약문 :  great product\n",
      "\n",
      "\n",
      "원문 :  syrup heaven maple syrup subtly perfumed bourbon perfect compliment stack pancakes even better yet bacon side yes pricy man delicious nice treat \n",
      "실제 요약문 : insanely delicious \n",
      "예측 요약문 :  best syrup ever\n",
      "\n",
      "\n",
      "원문 :  purchased tea sampler grandmas attic website ice wine one samples enjoyed much buying glad found amazon sampler also maple peach apricot mango great \n",
      "실제 요약문 : good \n",
      "예측 요약문 :  great tea\n",
      "\n",
      "\n",
      "원문 :  grew house kids would beg mother make swedish pancakes scratch get often driving around back country roads came across authentic country store browsing found swedish pancake mix said heck give try well tell tastes close homemade gets searching find amazon com awesome ordering recommending try telling cannot go wrong looking authentic taste \n",
      "실제 요약문 : awesome flavor \n",
      "예측 요약문 :  best pancakes ever\n",
      "\n",
      "\n",
      "원문 :  love hour energy works like advertised feel minutes last hours work hour days days week hour thru day keeps going strong definitely recommend berry pom \n",
      "실제 요약문 : excellent \n",
      "예측 요약문 :  great product\n",
      "\n",
      "\n",
      "원문 :  product sells almost everywhere line health stores per oz package price amazon com per oz \n",
      "실제 요약문 : price \n",
      "예측 요약문 :  price\n",
      "\n",
      "\n",
      "원문 :  hot dare eat one hotter ones made thought would fine really hot return say beware becuase three times hot ones \n",
      "실제 요약문 : hot \n",
      "예측 요약문 :  hot\n",
      "\n",
      "\n",
      "원문 :  told give caffeine health reasons wanted still able drink tea pg tips decaf awesome tell difference straight away ask decaf tea serve normal decaf tea much smoother taste \n",
      "실제 요약문 : decaf vs caffeine \n",
      "예측 요약문 :  best decaf tea\n",
      "\n",
      "\n",
      "원문 :  tried enjoying spring baseball game awesome next game looked local stores way ball park without finding sea salt black pepper picked two brands versions disappointed seem bolder flavor bigger seeds glad see stock amazon ensure stops way ball park \n",
      "실제 요약문 : great flavor \n",
      "예측 요약문 :  love\n",
      "\n",
      "\n",
      "원문 :  nice tart rich taste packaging great storing product airtight easily resealable great price \n",
      "실제 요약문 : nice price nice taste \n",
      "예측 요약문 :  delicious\n",
      "\n",
      "\n",
      "원문 :  like tonic water better others take foot cramps easier supplements real opinion superior efficacy plus like replacement soda much less sugar wonderful flavor mixed tonic water cocktails glass could ask \n",
      "실제 요약문 : tonic best \n",
      "예측 요약문 :  great tonic water\n",
      "\n",
      "\n",
      "원문 :  cats really loving product put fresh cat scratch boards regularly cats go nuts even older slower fatter kitty perks stuff keep cat toy tub comes little goes bonkers energizer well worth price \n",
      "실제 요약문 : \n",
      "예측 요약문 :  cats love\n",
      "\n",
      "\n",
      "원문 :  bought capsule size greenies cut four pieces place pills using avoid getting odor pills outside wrap dog food around greenies eats everything eating try put greenie mouth spits soon tastes medicine eating much pushes greenie side \n",
      "실제 요약문 : giving pills dog \n",
      "예측 요약문 :  greenies pill pockets\n",
      "\n",
      "\n",
      "원문 :  started eating healthier one yr ago biggest st step change sugar intake huge sweet tooth needed replace sugar coffee desserts etc without use sweeteners bad taste awful agave nectar comes plant sweet yummy nothing replaces taste good old white sugar agave great info agave internet great diabetic life styles also give sugar high low like white sugar worth using love order dozen \n",
      "실제 요약문 : madhave agave nectar \n",
      "예측 요약문 :  great product\n",
      "\n",
      "\n",
      "원문 :  love cereal softly crunchy texture softens milk also fine eat dry cut mouth got grams sugar per serving three times nutritionists recommend first two ingredients whole grain oats whole grain wheat sugar third recent study suggested eating sweet treat breakfast early day seemed stave eating lot treat stuff later fine filling treat whole grains thrown boot \n",
      "실제 요약문 : addictive somewhat healthful \n",
      "예측 요약문 :  cereal\n",
      "\n",
      "\n",
      "원문 :  looking protein sources went vegan yummy great camping snacks work great quick bit starving much healthier regular jerky even vegan vegetarian \n",
      "실제 요약문 : vegan jerky \n",
      "예측 요약문 :  great product\n",
      "\n",
      "\n",
      "원문 :  started little vizsla food couple months ago observed fantastic results originally blue buffalo care food resulted adding wet food temptations coax eat since switching brand tempt eat one time loves dog food coat super shiny difference stools cannot beat quality price brand think name incredibly quick recommend brand anyone asks \n",
      "실제 요약문 : good \n",
      "예측 요약문 :  great food\n",
      "\n",
      "\n",
      "원문 :  could find grocery stores last fall refused buy amzn miraculously weekend found boxes big lots yes one dollar eighty cents bought boxes good really live hype little pumpkin less frosting would perfect \n",
      "실제 요약문 : good great \n",
      "예측 요약문 :  overpriced\n",
      "\n",
      "\n",
      "원문 :  unless outside dog get smell absolutely horrible stinks entire house ugh \n",
      "실제 요약문 : terrible smell \n",
      "예측 요약문 :  dog would eat\n",
      "\n",
      "\n",
      "원문 :  great flavor quality like strong flavorful tea dissapoint mindful though spice leans heavily cinnamon must like cinnamon enjoy tea buy \n",
      "실제 요약문 : good tea \n",
      "예측 요약문 :  great tea\n",
      "\n",
      "\n",
      "원문 :  wow hot comes hot food adding one little drop need make cry home mommy read previous comment use drop believe says seriously need times hotter habanero current bottle running buy another soon \n",
      "실제 요약문 : wayyy hot love \n",
      "예측 요약문 :  hot\n",
      "\n",
      "\n",
      "원문 :  received coffee trying days use espresso machine make coffee bag say much kona blend cannot imagine much coffee smoothness real kona bit harsher side probably ok run mill cofee much better wish bought smaller bag first \n",
      "실제 요약문 : kona \n",
      "예측 요약문 :  ok\n",
      "\n",
      "\n",
      "원문 :  received complimentary influenster testing purposes must say loved picky eater never try new food must admit hesitant first however first bite regret opening package crunchy taste amazing top healthy recommend \n",
      "실제 요약문 : healthy snack \n",
      "예측 요약문 :  delicious\n",
      "\n",
      "\n",
      "원문 :  returned germany bought package knorr dressing packets bonus packet total packets less cents think absolutely outrageous posted list price salad dressing pack worth max think mark item borders criminal shame amazon allowing \n",
      "실제 요약문 : outrageously expensive \n",
      "예측 요약문 :  rip\n",
      "\n",
      "\n",
      "원문 :  purchased book breads five minutes day used flour directed semolina bread delicious easy well worth investment get book believe easy bake fresh breads recipe overlooked pasta find semolina flour supermarket hodgson mill brand still best loaves full flavor came fluffier delicate well worth extra effort \n",
      "실제 요약문 : quality \n",
      "예측 요약문 :  best bread flour\n",
      "\n",
      "\n",
      "원문 :  product tasted close many regular flour cakes tried real sweet family liked topped whipped cream raspberries follow instructions though used regular cake mixing method butter adding eggs one time butter combined liquids together added cake mix egg mixture rose well cake pans definitely recommend product \n",
      "실제 요약문 : delicious chocolate cake \n",
      "예측 요약문 :  good\n",
      "\n",
      "\n",
      "원문 :  ordered table top baking brown sugar problem shipment received table top two baking brown sugar upon contacting customer service vendor reacted immediately sent brown sugar pre paid envelope return extra baking product cannot comment product used yet definitely vouch fact company responsive thought price bit high dollar shipping charge excessive three pound shipment hey proof pudding mind price good claims going use product extensively comment quality \n",
      "실제 요약문 : customer service exceptional \n",
      "예측 요약문 :  sugar free\n",
      "\n",
      "\n",
      "원문 :  past enjoyed drinks aloe vera love green tea high hopes drink taste ok though bits passion fruit make give texture rather slimy combined fact one cup serving calories makes drink would pass might problem green tea drinkers worried calories might turned bits passion fruit floating around drink also price bit prohibitive works per bottle seems bit much oz drink \n",
      "실제 요약문 : ok taste many calories expensive \n",
      "예측 요약문 :  good\n",
      "\n",
      "\n",
      "원문 :  lentil seeds sprouted fine ended half order due poor packaging complain sprout house heard nothing back seed buying store guess \n",
      "실제 요약문 : packaging leaves much desired \n",
      "예측 요약문 :  seeds\n",
      "\n",
      "\n",
      "원문 :  buying sudden small flimsy pay less smaller \n",
      "실제 요약문 : reduction size \n",
      "예측 요약문 :  buy\n",
      "\n",
      "\n",
      "원문 :  tried kellog raisin bran cereal tasty right amount cinnamon sugar product bran flakes mixed milk must admit cinnamon sugar tastes awesome reason gave product three stars raisins almonds little sparse raisins plump juicy toasted almonds crunchy complement cereal well unfortunately cereal mostly bran flakes think kellog needs add raisins ramp almond content amount found honey bunches oats cereals raisin bran would outstanding \n",
      "실제 요약문 : tasty needs raisins almonds \n",
      "예측 요약문 :  good\n",
      "\n",
      "\n",
      "원문 :  sylvia cobbler mix wonderful used years could get local grocery store must order product worth wait ordering every product tried sylvia top notch adds right amounts ingredients spices make like mom grandma used make \n",
      "실제 요약문 : scrumptious cobbler mix \n",
      "예측 요약문 :  great product\n",
      "\n",
      "\n",
      "원문 :  someone cook indian often challenging take strong ingredients try come something edible wish use product outside recipe packaging \n",
      "실제 요약문 : good base needs alot meal \n",
      "예측 요약문 :  good\n",
      "\n",
      "\n",
      "원문 :  bag got look like bag pictured food stale dog got sick buying dog food \n",
      "실제 요약문 : stale food \n",
      "예측 요약문 :  stale\n",
      "\n",
      "\n",
      "원문 :  good natural healthy way make good coffee requires awful lot fiddling manually slowly pour boiled water onto cone multiple times waiting seems like ages water seep grounds pour tiny bit water poured make sure pour much little else get strong weak results say take financial hit buy good automatic electric drip coffee maker like life short standing forever porcelain pot slowly hot water grounds hopes work \n",
      "실제 요약문 : requires lots \n",
      "예측 요약문 :  good\n",
      "\n",
      "\n",
      "원문 :  started using product along spry toothpaste months ago recent cleaning dental commented clean teeth said whatever continue also bought kids products dentist also commented clean teeth bit pricey definitely bought benefits xylitol \n",
      "실제 요약문 : approved \n",
      "예측 요약문 :  great product\n",
      "\n",
      "\n",
      "원문 :  got active healthy eating toddler often go something mastered eating car seat love feel better product many snack foods less thing worry \n",
      "실제 요약문 : son loves stuff \n",
      "예측 요약문 :  love\n",
      "\n",
      "\n",
      "원문 :  duck sticks old greasy rank smell container us flag sticker lid dog really likes tinker duck treats would give hope amazon finds different supplier \n",
      "실제 요약문 : fresh returned \n",
      "예측 요약문 :  dog loves\n",
      "\n",
      "\n",
      "원문 :  glad found internet mushrooms small firm enough vinegar give great bite great flavor spices awesome \n",
      "실제 요약문 : awesome mushrooms amazon \n",
      "예측 요약문 :  great mushrooms\n",
      "\n",
      "\n",
      "원문 :  love chiles ancho powder must blends may create recommend chipotle powder try different peppers different amounts amazing results \n",
      "실제 요약문 : good quality fair price \n",
      "예측 요약문 :  great product\n",
      "\n",
      "\n",
      "원문 :  read reviews mentioned eating tiny morsels spoonful skeptical guess lol love \n",
      "실제 요약문 : tasty \n",
      "예측 요약문 :  good\n",
      "\n",
      "\n",
      "원문 :  product delivered promptly taking directed able give better review next time go see doctor bp taken cholesterol checked spring thanks \n",
      "실제 요약문 : benecol \n",
      "예측 요약문 :  good product\n",
      "\n",
      "\n",
      "원문 :  love like strong coffee got great price going order one \n",
      "실제 요약문 : strong enough \n",
      "예측 요약문 :  great coffee\n",
      "\n",
      "\n",
      "원문 :  salty wanted powder flavor nutritional value however particular blend much salt one barely taste plus used anything pinch blend would get quite lot sodium \n",
      "실제 요약문 : eden \n",
      "예측 요약문 :  salty\n",
      "\n",
      "\n",
      "원문 :  chia new food lives hype feel energetic hair growing like crazy add anything put morning smoothie \n",
      "실제 요약문 : gives energy chia \n",
      "예측 요약문 :  great product\n",
      "\n",
      "\n",
      "원문 :  hazelnut cocoa butter good uniform gritty texture reminds eating fact actual nuts bought tried peanut butter found ingredient list appealing cane sugar cocoa hazelnuts little vanilla nothing cannot pronounce loved chocolate hazelnut spread kid kids want questionable additives something people might point expensive bet every ounce hazelnut butter higher concentration nuts cocoa cheaper kinds spoonful satisfies sweet tooth pinch \n",
      "실제 요약문 : satisfying tasty \n",
      "예측 요약문 :  good\n",
      "\n",
      "\n",
      "원문 :  tea different texture taste kind purchased turkey still good \n",
      "실제 요약문 : yummy apple tea \n",
      "예측 요약문 :  good\n",
      "\n",
      "\n",
      "원문 :  almost one year old eats time year old still loves like buy bulk cost savings bring box snack daycare well also like banana flavored ones disolve mouth felt comfortable giving girls could hold around time started puffs \n",
      "실제 요약문 : kids loves \n",
      "예측 요약문 :  great snack\n",
      "\n",
      "\n",
      "원문 :  ordered original beef jerky ounce bags got today opened box noticed bags pack pack opened already disappointed order shopped amazon many years first time appeared problem \n",
      "실제 요약문 : three bags came \n",
      "예측 요약문 :  wrong item\n",
      "\n",
      "\n",
      "원문 :  love tulsi teas one least favorite need like real strong ginger flavor way overpowers flavors may like husband loves many flavors refuses drink one use medicinal purposes nausea buy \n",
      "실제 요약문 : much ginger \n",
      "예측 요약문 :  good\n",
      "\n",
      "\n",
      "원문 :  bought bulk packaging favorite blend used daily office however description pack six count boxes less descriptive useful upon opening one six boxes internal foil packet tea bags tea bag smaller normal tea bag use two get strength usually savings worth hassle dealing open packets needed stored doubling tea bags disappointed love bigelow teas continue buy bigelow bulk \n",
      "실제 요약문 : disliked packaging \n",
      "예측 요약문 :  great tea poor packaging\n",
      "\n",
      "\n",
      "원문 :  looking something substitute pasta great asian dishes like noodle soup stir fry etc love side benefit good want wheat pasta substitute try rice pasta cook \n",
      "실제 요약문 : great asia noodle \n",
      "예측 요약문 :  great pasta\n",
      "\n",
      "\n",
      "원문 :  glad able try wow impressed big fan cinnamon right combination sweetness crispiness bite size nuggets natural made sunflower seeds toasted grains nutty taste \n",
      "실제 요약문 : great tasting natural snack \n",
      "예측 요약문 :  best cinnamon ever\n",
      "\n",
      "\n",
      "원문 :  met expectations filling flavorful one bag generous portion non greasy flavors distinctive bbq best well distributed six adults tried six adults liked \n",
      "실제 요약문 : met expectations \n",
      "예측 요약문 :  good\n",
      "\n",
      "\n",
      "원문 :  bought son loves fried chicken needs gfcf diet used water despite strong oder cloves expecting fried chicken batter loved tried ate another piece suggest brown minutes side put oven cook rest way giving four browns quickly larger pieces meat used chicken thighs clove spice nice touch cloves say package \n",
      "실제 요약문 : good despite cloves \n",
      "예측 요약문 :  good\n",
      "\n",
      "\n",
      "원문 :  using service awhile like new frustration free packaging cups one box coffee tastes good well \n",
      "실제 요약문 : great packaging coffee price \n",
      "예측 요약문 :  good coffee\n",
      "\n",
      "\n",
      "원문 :  liked seemed work tasted pretty good drawback contained sugar burned inside mouth afraid may damage teeth due guessing high acid content probably order shame really seemed help curb appetite \n",
      "실제 요약문 : seems work much acid \n",
      "예측 요약문 :  good\n",
      "\n",
      "\n",
      "원문 :  hard find small pearl tapioca grocery store happy find amazon good product \n",
      "실제 요약문 : looking \n",
      "예측 요약문 :  good\n",
      "\n",
      "\n",
      "원문 :  great use cherry chocolate martinis like title review says forget health stuff live little cheers ps want recipe let see comments \n",
      "실제 요약문 : forget health stuff \n",
      "예측 요약문 :  love\n",
      "\n",
      "\n",
      "원문 :  whole keurig cups concept awesome one cannot believe invented much sooner finally decided get one stand different cups etc much easier faster make quick cup need one tastes great issue selection packs taste good standard coffee general enjoyed flavors sampler pack \n",
      "실제 요약문 : great product \n",
      "예측 요약문 :  great variety\n",
      "\n",
      "\n",
      "원문 :  chance try product several cats done close assessment cleaning power product say unlike brands picky cats immediately dove kibbles even cleaning better products fact cats actually seem like certainly result cleaner product buy regular basis \n",
      "실제 요약문 : multi cat household votes paws \n",
      "예측 요약문 :  cats love\n",
      "\n",
      "\n",
      "원문 :  chewing gum tastes like chewing minty white chocolate pastilles quite possibly delicious gum ever chewed \n",
      "실제 요약문 : best ever chewed \n",
      "예측 요약문 :  best gum ever\n",
      "\n",
      "\n",
      "원문 :  corgi puppy continuous loose stool completely eliminated put older pal canine caviar special needs diet plush coats dogs bonus love stuff \n",
      "실제 요약문 : finally \n",
      "예측 요약문 :  great food\n",
      "\n",
      "\n",
      "원문 :  ive love flavor infused oils make scrambled eggs saut ing veggies amazing add taste without adding bunch salt pepper loved much got set grandmother loved made quiche \n",
      "실제 요약문 : love \n",
      "예측 요약문 :  love\n",
      "\n",
      "\n",
      "원문 :  every one tried biscuits made stated great get \n",
      "실제 요약문 : biscuits \n",
      "예측 요약문 :  biscuits\n",
      "\n",
      "\n",
      "원문 :  hard find tea stores glad amazon great price probably tea decaffinated actually flavor another reviewer mentioned process tea flavor one wonderful vanilla bean added tea makes seem like desert tea wonderful milk sugar plain another great thing tea organic comes green responsible company numi keep good work \n",
      "실제 요약문 : delicious tea must tea lover \n"
     ]
    }
   ],
   "source": [
    "for i in range(500, 1000):\n",
    "    print(\"원문 : \",seq2text(encoder_input_test[i]))\n",
    "    print(\"실제 요약문 :\",seq2summary(decoder_input_test[i]))\n",
    "    print(\"예측 요약문 :\",decode_sequence(encoder_input_test[i].reshape(1, text_max_len)))\n",
    "    print(\"\\n\")"
   ]
  },
  {
   "cell_type": "code",
   "execution_count": null,
   "id": "a4edc85e-2275-4d9a-9e62-da735affae7b",
   "metadata": {},
   "outputs": [],
   "source": [
    "encoder_input_test "
   ]
  },
  {
   "cell_type": "code",
   "execution_count": null,
   "id": "fabd2687-2781-4601-9552-4e95bdcfcd32",
   "metadata": {},
   "outputs": [],
   "source": []
  }
 ],
 "metadata": {
  "kernelspec": {
   "display_name": "Python 3",
   "language": "python",
   "name": "python3"
  },
  "language_info": {
   "codemirror_mode": {
    "name": "ipython",
    "version": 3
   },
   "file_extension": ".py",
   "mimetype": "text/x-python",
   "name": "python",
   "nbconvert_exporter": "python",
   "pygments_lexer": "ipython3",
   "version": "3.6.9"
  }
 },
 "nbformat": 4,
 "nbformat_minor": 5
}
